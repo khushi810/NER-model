{
 "cells": [
  {
   "cell_type": "code",
   "execution_count": 11,
   "metadata": {},
   "outputs": [],
   "source": [
    "import pandas as pd\n",
    "import re"
   ]
  },
  {
   "cell_type": "code",
   "execution_count": 7,
   "metadata": {},
   "outputs": [],
   "source": [
    "data = pd.read_csv('coupons_ner.csv', header=None)"
   ]
  },
  {
   "cell_type": "code",
   "execution_count": 3,
   "metadata": {},
   "outputs": [
    {
     "data": {
      "text/plain": [
       "(886, 1)"
      ]
     },
     "execution_count": 3,
     "metadata": {},
     "output_type": "execute_result"
    }
   ],
   "source": [
    "data.shape"
   ]
  },
  {
   "cell_type": "code",
   "execution_count": 15,
   "metadata": {},
   "outputs": [
    {
     "data": {
      "text/html": [
       "<div>\n",
       "<style scoped>\n",
       "    .dataframe tbody tr th:only-of-type {\n",
       "        vertical-align: middle;\n",
       "    }\n",
       "\n",
       "    .dataframe tbody tr th {\n",
       "        vertical-align: top;\n",
       "    }\n",
       "\n",
       "    .dataframe thead th {\n",
       "        text-align: right;\n",
       "    }\n",
       "</style>\n",
       "<table border=\"1\" class=\"dataframe\">\n",
       "  <thead>\n",
       "    <tr style=\"text-align: right;\">\n",
       "      <th></th>\n",
       "      <th>0</th>\n",
       "    </tr>\n",
       "  </thead>\n",
       "  <tbody>\n",
       "    <tr>\n",
       "      <th>0</th>\n",
       "      <td>Save $2.00 ONE Downy Liquid Fabric Conditioner...</td>\n",
       "    </tr>\n",
       "    <tr>\n",
       "      <th>1</th>\n",
       "      <td>Save $2.00 ONE Tide PODS OR Tide Power PODS (e...</td>\n",
       "    </tr>\n",
       "    <tr>\n",
       "      <th>2</th>\n",
       "      <td>Save $2.00 ONE Tide Laundry Detergent (exclude...</td>\n",
       "    </tr>\n",
       "    <tr>\n",
       "      <th>3</th>\n",
       "      <td>SAVE $1.00 ON TWO when you buy TWO BOXES (8.9 ...</td>\n",
       "    </tr>\n",
       "    <tr>\n",
       "      <th>4</th>\n",
       "      <td>$3.00 OFF when you purchase any THREE (3) Pepp...</td>\n",
       "    </tr>\n",
       "    <tr>\n",
       "      <th>5</th>\n",
       "      <td>SAVE $1.11 when you buy any ONE (1) Familly Si...</td>\n",
       "    </tr>\n",
       "    <tr>\n",
       "      <th>6</th>\n",
       "      <td>SAVE $1.00 ON TWO when you buy TWO PACKAGES an...</td>\n",
       "    </tr>\n",
       "    <tr>\n",
       "      <th>7</th>\n",
       "      <td>Save $1.00 on any TWO (2) Sargento® Natural Ch...</td>\n",
       "    </tr>\n",
       "    <tr>\n",
       "      <th>8</th>\n",
       "      <td>$0.65 OFF On Any ONE (1) Oikos Greek Yogurt Cu...</td>\n",
       "    </tr>\n",
       "    <tr>\n",
       "      <th>9</th>\n",
       "      <td>$2.00 OFF ONE (1) SMALL bag of Eight O'Clock® ...</td>\n",
       "    </tr>\n",
       "    <tr>\n",
       "      <th>10</th>\n",
       "      <td>Save $0.50 ONE Tide Simply Laundry Detergent 3...</td>\n",
       "    </tr>\n",
       "    <tr>\n",
       "      <th>11</th>\n",
       "      <td>SAVE $1.00 ON TWO when you buy TWO BOXES any f...</td>\n",
       "    </tr>\n",
       "    <tr>\n",
       "      <th>12</th>\n",
       "      <td>$0.50 OFF on ONE (1) Frigo® Cheese Heads® 8ct ...</td>\n",
       "    </tr>\n",
       "    <tr>\n",
       "      <th>13</th>\n",
       "      <td>Save $0.50 off ONE (1) jar of Pace® Salsa or P...</td>\n",
       "    </tr>\n",
       "    <tr>\n",
       "      <th>14</th>\n",
       "      <td>$1.00 OFF on any THREE (3) noosa® yoghurts</td>\n",
       "    </tr>\n",
       "    <tr>\n",
       "      <th>15</th>\n",
       "      <td>Save $1.00 on any ONE (1) Gardein™ Frozen Item</td>\n",
       "    </tr>\n",
       "    <tr>\n",
       "      <th>16</th>\n",
       "      <td>Save $1.00 ONE Gain Flings 12 ct TO 26 ct OR G...</td>\n",
       "    </tr>\n",
       "    <tr>\n",
       "      <th>17</th>\n",
       "      <td>Save $0.50 on any ONE (1) pack of Energizer® B...</td>\n",
       "    </tr>\n",
       "    <tr>\n",
       "      <th>18</th>\n",
       "      <td>SAVE $2.00 on TWO (2) Purina® Beggin®, Busy® o...</td>\n",
       "    </tr>\n",
       "    <tr>\n",
       "      <th>19</th>\n",
       "      <td>Save $0.50 on any one (1) Pine-Sol® product, 4...</td>\n",
       "    </tr>\n",
       "    <tr>\n",
       "      <th>20</th>\n",
       "      <td>SAVE $1.00 ON ONE when you buy ONE PACKAGE any...</td>\n",
       "    </tr>\n",
       "    <tr>\n",
       "      <th>21</th>\n",
       "      <td>SAVE $1.25 on any ONE (1) crunchy Crunchmaster...</td>\n",
       "    </tr>\n",
       "    <tr>\n",
       "      <th>22</th>\n",
       "      <td>Save $2.00 ONE Dreft Newborn Laundry Detergent...</td>\n",
       "    </tr>\n",
       "    <tr>\n",
       "      <th>23</th>\n",
       "      <td>$1.00 OFF any THREE (3) Happy Baby Organics &amp;a...</td>\n",
       "    </tr>\n",
       "    <tr>\n",
       "      <th>24</th>\n",
       "      <td>Save $1.00 on any ONE (1) Udi's® Frozen Item</td>\n",
       "    </tr>\n",
       "    <tr>\n",
       "      <th>25</th>\n",
       "      <td>Save $1.00 ONE Downy Liquid Fabric Conditioner...</td>\n",
       "    </tr>\n",
       "    <tr>\n",
       "      <th>26</th>\n",
       "      <td>Save $1.00 ONE Gain Liquid Fabric Softener 48 ...</td>\n",
       "    </tr>\n",
       "    <tr>\n",
       "      <th>27</th>\n",
       "      <td>$1.00 OFF on any ONE (1) Tillamook® Ice Cream ...</td>\n",
       "    </tr>\n",
       "    <tr>\n",
       "      <th>28</th>\n",
       "      <td>Save $1.00 on Any ONE (1) BENADRYL® 20ct, 24ct...</td>\n",
       "    </tr>\n",
       "    <tr>\n",
       "      <th>29</th>\n",
       "      <td>Save $1.00 ONE Oral-B Glide Manual Floss, Flos...</td>\n",
       "    </tr>\n",
       "    <tr>\n",
       "      <th>...</th>\n",
       "      <td>...</td>\n",
       "    </tr>\n",
       "    <tr>\n",
       "      <th>856</th>\n",
       "      <td>SAVE $2.50 on ONE Fixodent Cleanser Tabs when ...</td>\n",
       "    </tr>\n",
       "    <tr>\n",
       "      <th>857</th>\n",
       "      <td>SAVE $1.00 on Any ONE (1) BENADRYL® 20ct, 24ct...</td>\n",
       "    </tr>\n",
       "    <tr>\n",
       "      <th>858</th>\n",
       "      <td>$5.00 OFF on any ONE (1) Osteo Bi-Flex® produc...</td>\n",
       "    </tr>\n",
       "    <tr>\n",
       "      <th>859</th>\n",
       "      <td>SAVE $3.00 ONLY On Colgate® Optic White® Renew...</td>\n",
       "    </tr>\n",
       "    <tr>\n",
       "      <th>860</th>\n",
       "      <td>SAVE $5.00 on TWO Pantene Pro-V Ingredients OR...</td>\n",
       "    </tr>\n",
       "    <tr>\n",
       "      <th>861</th>\n",
       "      <td>$4.00 OFF on ONE (1) Allegra® Allergy 24ct or ...</td>\n",
       "    </tr>\n",
       "    <tr>\n",
       "      <th>862</th>\n",
       "      <td>SAVE $3.00 ONE (1) Nexium® 24HR 28ct or larger</td>\n",
       "    </tr>\n",
       "    <tr>\n",
       "      <th>863</th>\n",
       "      <td>$0.50 OFF ONE (1) bag of Bridgford Sweet Baby ...</td>\n",
       "    </tr>\n",
       "    <tr>\n",
       "      <th>864</th>\n",
       "      <td>SAVE $1.00 on ONE (1) NIVEA® Body Wash 20 fl. oz.</td>\n",
       "    </tr>\n",
       "    <tr>\n",
       "      <th>865</th>\n",
       "      <td>SAVE $3.00 off any ONE (1) Children's Claritin...</td>\n",
       "    </tr>\n",
       "    <tr>\n",
       "      <th>866</th>\n",
       "      <td>SAVE $0.50 On One (1) Can of Fix-a-Flat® 16 oz.</td>\n",
       "    </tr>\n",
       "    <tr>\n",
       "      <th>867</th>\n",
       "      <td>SAVE 75¢ when you buy ONE (1) bubly™ sparkling...</td>\n",
       "    </tr>\n",
       "    <tr>\n",
       "      <th>868</th>\n",
       "      <td>SAVE $2.00 off any ONE (1) Banana Boat® or Haw...</td>\n",
       "    </tr>\n",
       "    <tr>\n",
       "      <th>869</th>\n",
       "      <td>SAVE $3.00 off ONE (1) Claritin® 20ct</td>\n",
       "    </tr>\n",
       "    <tr>\n",
       "      <th>870</th>\n",
       "      <td>$4.00 OFF on any ONE (1) 12ct. multipack SHEBA...</td>\n",
       "    </tr>\n",
       "    <tr>\n",
       "      <th>871</th>\n",
       "      <td>$1.00 OFF any ONE (1) FINISH® Automatic Dishwa...</td>\n",
       "    </tr>\n",
       "    <tr>\n",
       "      <th>872</th>\n",
       "      <td>SAVE $1.00 ONE Oral-B Special Care Oral Rinse ...</td>\n",
       "    </tr>\n",
       "    <tr>\n",
       "      <th>873</th>\n",
       "      <td>SAVE $0.50 off ONE (1) MAXWELL HOUSE Iced Coff...</td>\n",
       "    </tr>\n",
       "    <tr>\n",
       "      <th>874</th>\n",
       "      <td>SAVE $1.00 on ANY ONE (1) bag of NEW Kingsford...</td>\n",
       "    </tr>\n",
       "    <tr>\n",
       "      <th>875</th>\n",
       "      <td>SAVE $2.00 when you spend $6.00 on any Degree ...</td>\n",
       "    </tr>\n",
       "    <tr>\n",
       "      <th>876</th>\n",
       "      <td>SAVE $2.00 when you spend $6 on any Quaker Pro...</td>\n",
       "    </tr>\n",
       "    <tr>\n",
       "      <th>877</th>\n",
       "      <td>SAVE $1.00 when you buy ONE (1) 28 oz.TRESemmé...</td>\n",
       "    </tr>\n",
       "    <tr>\n",
       "      <th>878</th>\n",
       "      <td>SAVE $1.00 on DGH Auto Spray Refills Twin Packs</td>\n",
       "    </tr>\n",
       "    <tr>\n",
       "      <th>879</th>\n",
       "      <td>SAVE $3.00 when you spend $10 on any Bayer Con...</td>\n",
       "    </tr>\n",
       "    <tr>\n",
       "      <th>880</th>\n",
       "      <td>BUY TWO GET ONE Buy ONE (1) SOUR PATCH KIDS or...</td>\n",
       "    </tr>\n",
       "    <tr>\n",
       "      <th>881</th>\n",
       "      <td>SAVE $2.00 when you buy $7 worth of participat...</td>\n",
       "    </tr>\n",
       "    <tr>\n",
       "      <th>882</th>\n",
       "      <td>SAVE $5.00 on any Gain scented purchase of $30...</td>\n",
       "    </tr>\n",
       "    <tr>\n",
       "      <th>883</th>\n",
       "      <td>SAVE $1.00 when you buy any ONE (1) NEW AXE pr...</td>\n",
       "    </tr>\n",
       "    <tr>\n",
       "      <th>884</th>\n",
       "      <td>BUY TWO GET ONE Buy ONE (1) CHIPS AHOY! Cookie...</td>\n",
       "    </tr>\n",
       "    <tr>\n",
       "      <th>885</th>\n",
       "      <td>SAVE $2.00 when you spend $6 on all Suave® pro...</td>\n",
       "    </tr>\n",
       "  </tbody>\n",
       "</table>\n",
       "<p>886 rows × 1 columns</p>\n",
       "</div>"
      ],
      "text/plain": [
       "                                                     0\n",
       "0    Save $2.00 ONE Downy Liquid Fabric Conditioner...\n",
       "1    Save $2.00 ONE Tide PODS OR Tide Power PODS (e...\n",
       "2    Save $2.00 ONE Tide Laundry Detergent (exclude...\n",
       "3    SAVE $1.00 ON TWO when you buy TWO BOXES (8.9 ...\n",
       "4    $3.00 OFF when you purchase any THREE (3) Pepp...\n",
       "5    SAVE $1.11 when you buy any ONE (1) Familly Si...\n",
       "6    SAVE $1.00 ON TWO when you buy TWO PACKAGES an...\n",
       "7    Save $1.00 on any TWO (2) Sargento® Natural Ch...\n",
       "8    $0.65 OFF On Any ONE (1) Oikos Greek Yogurt Cu...\n",
       "9    $2.00 OFF ONE (1) SMALL bag of Eight O'Clock® ...\n",
       "10   Save $0.50 ONE Tide Simply Laundry Detergent 3...\n",
       "11   SAVE $1.00 ON TWO when you buy TWO BOXES any f...\n",
       "12   $0.50 OFF on ONE (1) Frigo® Cheese Heads® 8ct ...\n",
       "13   Save $0.50 off ONE (1) jar of Pace® Salsa or P...\n",
       "14          $1.00 OFF on any THREE (3) noosa® yoghurts\n",
       "15      Save $1.00 on any ONE (1) Gardein™ Frozen Item\n",
       "16   Save $1.00 ONE Gain Flings 12 ct TO 26 ct OR G...\n",
       "17   Save $0.50 on any ONE (1) pack of Energizer® B...\n",
       "18   SAVE $2.00 on TWO (2) Purina® Beggin®, Busy® o...\n",
       "19   Save $0.50 on any one (1) Pine-Sol® product, 4...\n",
       "20   SAVE $1.00 ON ONE when you buy ONE PACKAGE any...\n",
       "21   SAVE $1.25 on any ONE (1) crunchy Crunchmaster...\n",
       "22   Save $2.00 ONE Dreft Newborn Laundry Detergent...\n",
       "23   $1.00 OFF any THREE (3) Happy Baby Organics &a...\n",
       "24        Save $1.00 on any ONE (1) Udi's® Frozen Item\n",
       "25   Save $1.00 ONE Downy Liquid Fabric Conditioner...\n",
       "26   Save $1.00 ONE Gain Liquid Fabric Softener 48 ...\n",
       "27   $1.00 OFF on any ONE (1) Tillamook® Ice Cream ...\n",
       "28   Save $1.00 on Any ONE (1) BENADRYL® 20ct, 24ct...\n",
       "29   Save $1.00 ONE Oral-B Glide Manual Floss, Flos...\n",
       "..                                                 ...\n",
       "856  SAVE $2.50 on ONE Fixodent Cleanser Tabs when ...\n",
       "857  SAVE $1.00 on Any ONE (1) BENADRYL® 20ct, 24ct...\n",
       "858  $5.00 OFF on any ONE (1) Osteo Bi-Flex® produc...\n",
       "859  SAVE $3.00 ONLY On Colgate® Optic White® Renew...\n",
       "860  SAVE $5.00 on TWO Pantene Pro-V Ingredients OR...\n",
       "861  $4.00 OFF on ONE (1) Allegra® Allergy 24ct or ...\n",
       "862     SAVE $3.00 ONE (1) Nexium® 24HR 28ct or larger\n",
       "863  $0.50 OFF ONE (1) bag of Bridgford Sweet Baby ...\n",
       "864  SAVE $1.00 on ONE (1) NIVEA® Body Wash 20 fl. oz.\n",
       "865  SAVE $3.00 off any ONE (1) Children's Claritin...\n",
       "866    SAVE $0.50 On One (1) Can of Fix-a-Flat® 16 oz.\n",
       "867  SAVE 75¢ when you buy ONE (1) bubly™ sparkling...\n",
       "868  SAVE $2.00 off any ONE (1) Banana Boat® or Haw...\n",
       "869              SAVE $3.00 off ONE (1) Claritin® 20ct\n",
       "870  $4.00 OFF on any ONE (1) 12ct. multipack SHEBA...\n",
       "871  $1.00 OFF any ONE (1) FINISH® Automatic Dishwa...\n",
       "872  SAVE $1.00 ONE Oral-B Special Care Oral Rinse ...\n",
       "873  SAVE $0.50 off ONE (1) MAXWELL HOUSE Iced Coff...\n",
       "874  SAVE $1.00 on ANY ONE (1) bag of NEW Kingsford...\n",
       "875  SAVE $2.00 when you spend $6.00 on any Degree ...\n",
       "876  SAVE $2.00 when you spend $6 on any Quaker Pro...\n",
       "877  SAVE $1.00 when you buy ONE (1) 28 oz.TRESemmé...\n",
       "878    SAVE $1.00 on DGH Auto Spray Refills Twin Packs\n",
       "879  SAVE $3.00 when you spend $10 on any Bayer Con...\n",
       "880  BUY TWO GET ONE Buy ONE (1) SOUR PATCH KIDS or...\n",
       "881  SAVE $2.00 when you buy $7 worth of participat...\n",
       "882  SAVE $5.00 on any Gain scented purchase of $30...\n",
       "883  SAVE $1.00 when you buy any ONE (1) NEW AXE pr...\n",
       "884  BUY TWO GET ONE Buy ONE (1) CHIPS AHOY! Cookie...\n",
       "885  SAVE $2.00 when you spend $6 on all Suave® pro...\n",
       "\n",
       "[886 rows x 1 columns]"
      ]
     },
     "execution_count": 15,
     "metadata": {},
     "output_type": "execute_result"
    }
   ],
   "source": [
    "data"
   ]
  },
  {
   "cell_type": "code",
   "execution_count": 64,
   "metadata": {},
   "outputs": [],
   "source": [
    "pattern = r'^(?:(?:Save|SAVE) )?(\\$?(?:\\d+)(?:\\.\\d+)?¢?)(?: OFF)?'"
   ]
  },
  {
   "cell_type": "code",
   "execution_count": 65,
   "metadata": {},
   "outputs": [],
   "source": [
    "ans = re.findall(pattern, data[0].iloc[20])"
   ]
  },
  {
   "cell_type": "code",
   "execution_count": 89,
   "metadata": {},
   "outputs": [],
   "source": [
    "def fun1(data):\n",
    "    FaceValue = []\n",
    "    for _, item in data[0].iteritems():\n",
    "        FaceValue.append(re.findall(pattern, item))\n",
    "    return FaceValue"
   ]
  },
  {
   "cell_type": "code",
   "execution_count": 90,
   "metadata": {},
   "outputs": [],
   "source": [
    "FaceValue = fun1(data)"
   ]
  },
  {
   "cell_type": "code",
   "execution_count": 91,
   "metadata": {},
   "outputs": [],
   "source": [
    "empty_index = []\n",
    "for i, ele in enumerate(FaceValue):\n",
    "    if not ele:\n",
    "        empty_index.append(i)"
   ]
  },
  {
   "cell_type": "code",
   "execution_count": 93,
   "metadata": {},
   "outputs": [
    {
     "data": {
      "text/plain": [
       "308"
      ]
     },
     "execution_count": 93,
     "metadata": {},
     "output_type": "execute_result"
    }
   ],
   "source": [
    "len(empty_index)"
   ]
  },
  {
   "cell_type": "markdown",
   "metadata": {},
   "source": [
    "- Total 308 product details are without facevalue."
   ]
  },
  {
   "cell_type": "code",
   "execution_count": 88,
   "metadata": {},
   "outputs": [
    {
     "data": {
      "text/plain": [
       "270    Osteo Bi-Flex® on any ONE (1) Osteo Bi-Flex® p...\n",
       "271        CLIF BAR® on any ONE (1) CLIF® Bar Multipack.\n",
       "272    BENADRYL® on Any ONE (1) BENADRYL® 20ct, 24ct ...\n",
       "273    Claritin® off any ONE (1) Claritin® Cool Mint ...\n",
       "274    Claritin-D® off any ONE (1) Claritin-D® 15ct o...\n",
       "275    Claritin® off any ONE (1) Children's Claritin®...\n",
       "276    Claritin® off any ONE (1) Children's Claritin®...\n",
       "277     Ensure® on Any TWO (2) Ensure Multi-Pack Shakes.\n",
       "278    Aleve® on any ONE (1) Aleve® or Aleve®PM produ...\n",
       "279    Adult ZYRTEC® when you buy ONE (1) Adult ZYRTE...\n",
       "280          Florastor on any ONE (1) Florastor product.\n",
       "281    Allegra® on ONE (1) Allegra® Allergy 24ct or l...\n",
       "282                            Dixie Tableware 40-94-ct.\n",
       "283    Kingsford Match Light or Charcoal... 12-16-lb....\n",
       "284    Pabst Blue Ribbon on ONE (1) Pabst Blue Ribbon...\n",
       "285    Tide ONE Tide Laundry Detergent 37 oz TO 50 oz...\n",
       "286    Tide ONE Tide PODS 16 ct OR 12 ct (excludes Ti...\n",
       "287    Chinet® Cut Crystal® Buy TWO (2) Chinet® Cut C...\n",
       "288    Gain ONE Gain Flings 16 ct OR 14 ct OR 12 ct O...\n",
       "289    Gain ONE Gain Liquid Fabric Softener 48 ld OR ...\n",
       "290       Raid® any ONE (1) Raid® Wasp & Hornet Product.\n",
       "291               OFF!® any ONE (1) OFF!® brand product.\n",
       "292    Raid® on any ONE (1) Raid® Essential Oils Prod...\n",
       "293    OFF!® on any ONE (1) OFF!® Product (Excludes C...\n",
       "294                         Tillamook Ice Cream 1.75-qt.\n",
       "295                          Popsicle Novelties 9-18-ct.\n",
       "296    Pepperidge Farm Turnovers 12.5-oz. or 19.6-oz....\n",
       "297    Signature SELECT Frozen Dessert 8-9.87-oz. Lim...\n",
       "298          Signature SELECT Ice Cream 1.5-qt. Limit 1.\n",
       "299    Tillamook® Ice Cream on any TWO (2) Tillamook®...\n",
       "Name: 0, dtype: object"
      ]
     },
     "execution_count": 88,
     "metadata": {},
     "output_type": "execute_result"
    }
   ],
   "source": [
    "data[0].iloc[270:300]"
   ]
  },
  {
   "cell_type": "code",
   "execution_count": 151,
   "metadata": {},
   "outputs": [
    {
     "data": {
      "text/plain": [
       "'Tide ONE Tide PODS 16 ct OR 12 ct (excludes Tide Liquid/Powder...'"
      ]
     },
     "execution_count": 151,
     "metadata": {},
     "output_type": "execute_result"
    }
   ],
   "source": [
    "data[0].iloc[286]"
   ]
  },
  {
   "cell_type": "code",
   "execution_count": 95,
   "metadata": {},
   "outputs": [
    {
     "data": {
      "text/html": [
       "<div>\n",
       "<style scoped>\n",
       "    .dataframe tbody tr th:only-of-type {\n",
       "        vertical-align: middle;\n",
       "    }\n",
       "\n",
       "    .dataframe tbody tr th {\n",
       "        vertical-align: top;\n",
       "    }\n",
       "\n",
       "    .dataframe thead th {\n",
       "        text-align: right;\n",
       "    }\n",
       "</style>\n",
       "<table border=\"1\" class=\"dataframe\">\n",
       "  <thead>\n",
       "    <tr style=\"text-align: right;\">\n",
       "      <th></th>\n",
       "      <th>0</th>\n",
       "    </tr>\n",
       "  </thead>\n",
       "  <tbody>\n",
       "    <tr>\n",
       "      <th>0</th>\n",
       "      <td>Save $2.00 ONE Downy Liquid Fabric Conditioner...</td>\n",
       "    </tr>\n",
       "    <tr>\n",
       "      <th>1</th>\n",
       "      <td>Save $2.00 ONE Tide PODS OR Tide Power PODS (e...</td>\n",
       "    </tr>\n",
       "    <tr>\n",
       "      <th>2</th>\n",
       "      <td>Save $2.00 ONE Tide Laundry Detergent (exclude...</td>\n",
       "    </tr>\n",
       "    <tr>\n",
       "      <th>3</th>\n",
       "      <td>SAVE $1.00 ON TWO when you buy TWO BOXES (8.9 ...</td>\n",
       "    </tr>\n",
       "    <tr>\n",
       "      <th>4</th>\n",
       "      <td>$3.00 OFF when you purchase any THREE (3) Pepp...</td>\n",
       "    </tr>\n",
       "    <tr>\n",
       "      <th>5</th>\n",
       "      <td>SAVE $1.11 when you buy any ONE (1) Familly Si...</td>\n",
       "    </tr>\n",
       "    <tr>\n",
       "      <th>6</th>\n",
       "      <td>SAVE $1.00 ON TWO when you buy TWO PACKAGES an...</td>\n",
       "    </tr>\n",
       "    <tr>\n",
       "      <th>7</th>\n",
       "      <td>Save $1.00 on any TWO (2) Sargento® Natural Ch...</td>\n",
       "    </tr>\n",
       "    <tr>\n",
       "      <th>8</th>\n",
       "      <td>$0.65 OFF On Any ONE (1) Oikos Greek Yogurt Cu...</td>\n",
       "    </tr>\n",
       "    <tr>\n",
       "      <th>9</th>\n",
       "      <td>$2.00 OFF ONE (1) SMALL bag of Eight O'Clock® ...</td>\n",
       "    </tr>\n",
       "    <tr>\n",
       "      <th>10</th>\n",
       "      <td>Save $0.50 ONE Tide Simply Laundry Detergent 3...</td>\n",
       "    </tr>\n",
       "    <tr>\n",
       "      <th>11</th>\n",
       "      <td>SAVE $1.00 ON TWO when you buy TWO BOXES any f...</td>\n",
       "    </tr>\n",
       "    <tr>\n",
       "      <th>12</th>\n",
       "      <td>$0.50 OFF on ONE (1) Frigo® Cheese Heads® 8ct ...</td>\n",
       "    </tr>\n",
       "    <tr>\n",
       "      <th>13</th>\n",
       "      <td>Save $0.50 off ONE (1) jar of Pace® Salsa or P...</td>\n",
       "    </tr>\n",
       "    <tr>\n",
       "      <th>14</th>\n",
       "      <td>$1.00 OFF on any THREE (3) noosa® yoghurts</td>\n",
       "    </tr>\n",
       "    <tr>\n",
       "      <th>15</th>\n",
       "      <td>Save $1.00 on any ONE (1) Gardein™ Frozen Item</td>\n",
       "    </tr>\n",
       "    <tr>\n",
       "      <th>16</th>\n",
       "      <td>Save $1.00 ONE Gain Flings 12 ct TO 26 ct OR G...</td>\n",
       "    </tr>\n",
       "    <tr>\n",
       "      <th>17</th>\n",
       "      <td>Save $0.50 on any ONE (1) pack of Energizer® B...</td>\n",
       "    </tr>\n",
       "    <tr>\n",
       "      <th>18</th>\n",
       "      <td>SAVE $2.00 on TWO (2) Purina® Beggin®, Busy® o...</td>\n",
       "    </tr>\n",
       "    <tr>\n",
       "      <th>19</th>\n",
       "      <td>Save $0.50 on any one (1) Pine-Sol® product, 4...</td>\n",
       "    </tr>\n",
       "  </tbody>\n",
       "</table>\n",
       "</div>"
      ],
      "text/plain": [
       "                                                    0\n",
       "0   Save $2.00 ONE Downy Liquid Fabric Conditioner...\n",
       "1   Save $2.00 ONE Tide PODS OR Tide Power PODS (e...\n",
       "2   Save $2.00 ONE Tide Laundry Detergent (exclude...\n",
       "3   SAVE $1.00 ON TWO when you buy TWO BOXES (8.9 ...\n",
       "4   $3.00 OFF when you purchase any THREE (3) Pepp...\n",
       "5   SAVE $1.11 when you buy any ONE (1) Familly Si...\n",
       "6   SAVE $1.00 ON TWO when you buy TWO PACKAGES an...\n",
       "7   Save $1.00 on any TWO (2) Sargento® Natural Ch...\n",
       "8   $0.65 OFF On Any ONE (1) Oikos Greek Yogurt Cu...\n",
       "9   $2.00 OFF ONE (1) SMALL bag of Eight O'Clock® ...\n",
       "10  Save $0.50 ONE Tide Simply Laundry Detergent 3...\n",
       "11  SAVE $1.00 ON TWO when you buy TWO BOXES any f...\n",
       "12  $0.50 OFF on ONE (1) Frigo® Cheese Heads® 8ct ...\n",
       "13  Save $0.50 off ONE (1) jar of Pace® Salsa or P...\n",
       "14         $1.00 OFF on any THREE (3) noosa® yoghurts\n",
       "15     Save $1.00 on any ONE (1) Gardein™ Frozen Item\n",
       "16  Save $1.00 ONE Gain Flings 12 ct TO 26 ct OR G...\n",
       "17  Save $0.50 on any ONE (1) pack of Energizer® B...\n",
       "18  SAVE $2.00 on TWO (2) Purina® Beggin®, Busy® o...\n",
       "19  Save $0.50 on any one (1) Pine-Sol® product, 4..."
      ]
     },
     "execution_count": 95,
     "metadata": {},
     "output_type": "execute_result"
    }
   ],
   "source": [
    "demo"
   ]
  },
  {
   "cell_type": "code",
   "execution_count": 96,
   "metadata": {},
   "outputs": [
    {
     "data": {
      "text/plain": [
       "0     Save $2.00 ONE Downy Liquid Fabric Conditioner...\n",
       "1     Save $2.00 ONE Tide PODS OR Tide Power PODS (e...\n",
       "2     Save $2.00 ONE Tide Laundry Detergent (exclude...\n",
       "3     SAVE $1.00 ON TWO when you buy TWO BOXES (8.9 ...\n",
       "4     $3.00 OFF when you purchase any THREE (3) Pepp...\n",
       "5     SAVE $1.11 when you buy any ONE (1) Familly Si...\n",
       "6     SAVE $1.00 ON TWO when you buy TWO PACKAGES an...\n",
       "7     Save $1.00 on any TWO (2) Sargento® Natural Ch...\n",
       "8     $0.65 OFF On Any ONE (1) Oikos Greek Yogurt Cu...\n",
       "9     $2.00 OFF ONE (1) SMALL bag of Eight O'Clock® ...\n",
       "10    Save $0.50 ONE Tide Simply Laundry Detergent 3...\n",
       "11    SAVE $1.00 ON TWO when you buy TWO BOXES any f...\n",
       "12    $0.50 OFF on ONE (1) Frigo® Cheese Heads® 8ct ...\n",
       "13    Save $0.50 off ONE (1) jar of Pace® Salsa or P...\n",
       "14           $1.00 OFF on any THREE (3) noosa® yoghurts\n",
       "15       Save $1.00 on any ONE (1) Gardein™ Frozen Item\n",
       "16    Save $1.00 ONE Gain Flings 12 ct TO 26 ct OR G...\n",
       "17    Save $0.50 on any ONE (1) pack of Energizer® B...\n",
       "18    SAVE $2.00 on TWO (2) Purina® Beggin®, Busy® o...\n",
       "19    Save $0.50 on any one (1) Pine-Sol® product, 4...\n",
       "Name: 0, dtype: object"
      ]
     },
     "execution_count": 96,
     "metadata": {},
     "output_type": "execute_result"
    }
   ],
   "source": [
    "demo[0]"
   ]
  },
  {
   "cell_type": "markdown",
   "metadata": {},
   "source": [
    "- Unique words"
   ]
  },
  {
   "cell_type": "code",
   "execution_count": 210,
   "metadata": {},
   "outputs": [],
   "source": [
    "words = []\n",
    "for _, ele in data[0].iteritems():\n",
    "    for word in ele.split(' '):\n",
    "        words.append(word.lower())\n",
    "        "
   ]
  },
  {
   "cell_type": "code",
   "execution_count": 211,
   "metadata": {},
   "outputs": [
    {
     "data": {
      "text/plain": [
       "15747"
      ]
     },
     "execution_count": 211,
     "metadata": {},
     "output_type": "execute_result"
    }
   ],
   "source": [
    "len(words)"
   ]
  },
  {
   "cell_type": "code",
   "execution_count": 212,
   "metadata": {},
   "outputs": [],
   "source": [
    "unique_words = list(set(words))"
   ]
  },
  {
   "cell_type": "code",
   "execution_count": 213,
   "metadata": {},
   "outputs": [
    {
     "data": {
      "text/plain": [
       "2351"
      ]
     },
     "execution_count": 213,
     "metadata": {},
     "output_type": "execute_result"
    }
   ],
   "source": [
    "len(unique_words)"
   ]
  },
  {
   "cell_type": "code",
   "execution_count": 236,
   "metadata": {},
   "outputs": [],
   "source": [
    "unique_tagss = list(set(u_tags))"
   ]
  },
  {
   "cell_type": "code",
   "execution_count": 237,
   "metadata": {},
   "outputs": [
    {
     "data": {
      "text/plain": [
       "['', 'P\\n', 'o\\n', 'O\\n']"
      ]
     },
     "execution_count": 237,
     "metadata": {},
     "output_type": "execute_result"
    }
   ],
   "source": [
    "unique_tagss"
   ]
  },
  {
   "cell_type": "code",
   "execution_count": 215,
   "metadata": {},
   "outputs": [],
   "source": [
    "with open('words.txt', 'w') as f:\n",
    "    for item in unique_words:\n",
    "        f.write(\"%s\\n\" % item)"
   ]
  },
  {
   "cell_type": "code",
   "execution_count": 233,
   "metadata": {},
   "outputs": [],
   "source": [
    "u_words = []\n",
    "u_tags = []\n",
    "with open('words.txt','r') as f:\n",
    "    for line in f:\n",
    "        lst = line.split(' ')\n",
    "        u_words.append(line.split(' ')[0])\n",
    "        u_tags.append(line.split(' ')[1])"
   ]
  },
  {
   "cell_type": "code",
   "execution_count": 239,
   "metadata": {},
   "outputs": [
    {
     "data": {
      "text/plain": [
       "2350"
      ]
     },
     "execution_count": 239,
     "metadata": {},
     "output_type": "execute_result"
    }
   ],
   "source": [
    "len(u_tags)"
   ]
  },
  {
   "cell_type": "code",
   "execution_count": 238,
   "metadata": {},
   "outputs": [
    {
     "data": {
      "text/plain": [
       "2350"
      ]
     },
     "execution_count": 238,
     "metadata": {},
     "output_type": "execute_result"
    }
   ],
   "source": [
    "len(u_words)"
   ]
  },
  {
   "cell_type": "code",
   "execution_count": 240,
   "metadata": {},
   "outputs": [],
   "source": [
    "word_tag_dictionary = dict(zip(u_words, u_tags))"
   ]
  },
  {
   "cell_type": "code",
   "execution_count": 247,
   "metadata": {},
   "outputs": [],
   "source": [
    "word_to_numbers = {w: i for i, w in enumerate(unique_words)}\n",
    "tag_to_numbers = {t: i for i, t in enumerate(u_tags)}\n",
    "numbers_to_tags = {v: k for k, v in enumerate(u_tags)}"
   ]
  },
  {
   "cell_type": "code",
   "execution_count": 245,
   "metadata": {},
   "outputs": [
    {
     "data": {
      "text/plain": [
       "{'P\\n': 2349, 'O\\n': 2344, 'o\\n': 1533, '': 981}"
      ]
     },
     "execution_count": 245,
     "metadata": {},
     "output_type": "execute_result"
    }
   ],
   "source": [
    "tag_to_numbers"
   ]
  },
  {
   "cell_type": "code",
   "execution_count": 248,
   "metadata": {},
   "outputs": [
    {
     "data": {
      "text/plain": [
       "{'P\\n': 2349, 'O\\n': 2344, 'o\\n': 1533, '': 981}"
      ]
     },
     "execution_count": 248,
     "metadata": {},
     "output_type": "execute_result"
    }
   ],
   "source": [
    "numbers_to_tags"
   ]
  },
  {
   "cell_type": "code",
   "execution_count": 255,
   "metadata": {},
   "outputs": [
    {
     "data": {
      "text/plain": [
       "0    Save $2.00 ONE Downy Liquid Fabric Conditioner...\n",
       "1    Save $2.00 ONE Tide PODS OR Tide Power PODS (e...\n",
       "2    Save $2.00 ONE Tide Laundry Detergent (exclude...\n",
       "3    SAVE $1.00 ON TWO when you buy TWO BOXES (8.9 ...\n",
       "4    $3.00 OFF when you purchase any THREE (3) Pepp...\n",
       "Name: 0, dtype: object"
      ]
     },
     "execution_count": 255,
     "metadata": {},
     "output_type": "execute_result"
    }
   ],
   "source": [
    "demo = data[0].iloc[:5]\n",
    "demo"
   ]
  },
  {
   "cell_type": "code",
   "execution_count": 258,
   "metadata": {},
   "outputs": [],
   "source": [
    "demo_y = []\n",
    "for row in demo:\n",
    "    label = []\n",
    "    for ele in row.split(' '):\n",
    "        label.append(tag_to_numbers[word_tag_dictionary[ele.lower()]])\n",
    "    demo_y.append(label)"
   ]
  },
  {
   "cell_type": "code",
   "execution_count": 260,
   "metadata": {},
   "outputs": [
    {
     "data": {
      "text/plain": [
       "0    Save $2.00 ONE Downy Liquid Fabric Conditioner...\n",
       "1    Save $2.00 ONE Tide PODS OR Tide Power PODS (e...\n",
       "2    Save $2.00 ONE Tide Laundry Detergent (exclude...\n",
       "3    SAVE $1.00 ON TWO when you buy TWO BOXES (8.9 ...\n",
       "4    $3.00 OFF when you purchase any THREE (3) Pepp...\n",
       "Name: 0, dtype: object"
      ]
     },
     "execution_count": 260,
     "metadata": {},
     "output_type": "execute_result"
    }
   ],
   "source": [
    "demo_y\n",
    "demo"
   ]
  },
  {
   "cell_type": "code",
   "execution_count": 263,
   "metadata": {},
   "outputs": [],
   "source": [
    "demo_x = []\n",
    "for row in demo:\n",
    "    label = []\n",
    "    for ele in row.split(' '):\n",
    "        label.append(word_to_numbers[ele.lower()])\n",
    "    demo_x.append(label)"
   ]
  },
  {
   "cell_type": "code",
   "execution_count": 265,
   "metadata": {},
   "outputs": [
    {
     "name": "stdout",
     "output_type": "stream",
     "text": [
      "77\n",
      "29\n",
      "34\n",
      "23\n",
      "15\n"
     ]
    }
   ],
   "source": [
    "for ele in demo_x:\n",
    "    print(len(ele))"
   ]
  },
  {
   "cell_type": "code",
   "execution_count": 266,
   "metadata": {},
   "outputs": [
    {
     "name": "stderr",
     "output_type": "stream",
     "text": [
      "Using TensorFlow backend.\n"
     ]
    }
   ],
   "source": [
    "from keras.preprocessing.sequence import pad_sequences\n",
    "X = pad_sequences(maxlen=77, sequences=demo_x, padding=\"post\")"
   ]
  },
  {
   "cell_type": "code",
   "execution_count": 267,
   "metadata": {},
   "outputs": [
    {
     "data": {
      "text/plain": [
       "array([[1995, 1395,  893, 2190, 1772, 2129, 1807, 1559,  363, 1877, 1688,\n",
       "        1067, 2190, 1127,   89, 1867,  635, 1877, 1688, 1877, 2190,  354,\n",
       "        1142, 1609,  635, 1877, 1688, 1877, 2190,  909, 1039, 2272,  635,\n",
       "        1877, 1618, 1877, 1600,  851, 1897,  515, 1877, 1688, 1067, 1600,\n",
       "         354, 1142, 2192,  515, 1877, 1618, 1877,  653, 1383,  722,  682,\n",
       "        2316,  635, 1877, 1688, 1067, 2190, 1347, 1721, 1251, 1127, 1251,\n",
       "         765,   34,  601, 2190, 1564, 1159,  427,  641,  765,  536,  110],\n",
       "       [1995, 1395,  893, 2106,  903, 1877, 2106,  782,  903,  601, 2106,\n",
       "        2217, 1285, 2320, 2106, 1139, 2106, 1019,   75,  765, 2106,  903,\n",
       "         200,  515,  765, 1744,  765,  536,  110,    0,    0,    0,    0,\n",
       "           0,    0,    0,    0,    0,    0,    0,    0,    0,    0,    0,\n",
       "           0,    0,    0,    0,    0,    0,    0,    0,    0,    0,    0,\n",
       "           0,    0,    0,    0,    0,    0,    0,    0,    0,    0,    0,\n",
       "           0,    0,    0,    0,    0,    0,    0,    0,    0,    0,    0],\n",
       "       [1995, 1395,  893, 2106, 1285, 1219,  601, 2106, 1011, 1285, 2320,\n",
       "        1670,  195, 2106, 1285, 2320, 2106,   75, 2106,  795, 2106, 1019,\n",
       "        1285, 2320, 2106, 1019,   75, 2106, 1219, 1587,  635,  765,  536,\n",
       "         110,    0,    0,    0,    0,    0,    0,    0,    0,    0,    0,\n",
       "           0,    0,    0,    0,    0,    0,    0,    0,    0,    0,    0,\n",
       "           0,    0,    0,    0,    0,    0,    0,    0,    0,    0,    0,\n",
       "           0,    0,    0,    0,    0,    0,    0,    0,    0,    0,    0],\n",
       "       [1995, 1836, 2072, 2212, 1802, 1978, 1525, 2212,  578, 1545, 1280,\n",
       "         832,   64, 1972, 2019, 1640, 1607, 1756, 1220, 1504, 1014, 2071,\n",
       "        1790,    0,    0,    0,    0,    0,    0,    0,    0,    0,    0,\n",
       "           0,    0,    0,    0,    0,    0,    0,    0,    0,    0,    0,\n",
       "           0,    0,    0,    0,    0,    0,    0,    0,    0,    0,    0,\n",
       "           0,    0,    0,    0,    0,    0,    0,    0,    0,    0,    0,\n",
       "           0,    0,    0,    0,    0,    0,    0,    0,    0,    0,    0],\n",
       "       [2035, 2012, 1802, 1978, 2073, 1607, 1968,  470, 1147, 1241, 2328,\n",
       "        1704, 1187, 1877, 1130,    0,    0,    0,    0,    0,    0,    0,\n",
       "           0,    0,    0,    0,    0,    0,    0,    0,    0,    0,    0,\n",
       "           0,    0,    0,    0,    0,    0,    0,    0,    0,    0,    0,\n",
       "           0,    0,    0,    0,    0,    0,    0,    0,    0,    0,    0,\n",
       "           0,    0,    0,    0,    0,    0,    0,    0,    0,    0,    0,\n",
       "           0,    0,    0,    0,    0,    0,    0,    0,    0,    0,    0]],\n",
       "      dtype=int32)"
      ]
     },
     "execution_count": 267,
     "metadata": {},
     "output_type": "execute_result"
    }
   ],
   "source": [
    "X"
   ]
  },
  {
   "cell_type": "code",
   "execution_count": 280,
   "metadata": {},
   "outputs": [],
   "source": [
    "y = pad_sequences(maxlen=77, sequences=demo_y, padding=\"post\", )"
   ]
  },
  {
   "cell_type": "code",
   "execution_count": 281,
   "metadata": {},
   "outputs": [
    {
     "data": {
      "text/plain": [
       "array([[2344, 2344, 2344, 2349, 2344, 2349, 2349, 2344, 2344, 2344, 2344,\n",
       "        2344, 2349, 2349, 2349, 2344, 2344, 2344, 2344, 2344, 2349, 2349,\n",
       "        2344, 2344, 2344, 2344, 2344, 2344, 2349, 2349, 2344, 2344, 2344,\n",
       "        2344, 2344, 2344, 2349, 2344, 2344, 2344, 2344, 2344, 2344, 2349,\n",
       "        2349, 2344, 2344, 2344, 2344, 2344, 2344, 2344, 2349, 2344, 2349,\n",
       "        2344, 2344, 2344, 2344, 2344, 2349, 2349, 2349, 2344, 2349, 2344,\n",
       "        2344, 2349, 2344, 2349, 2344, 2349, 2344, 2349, 2344, 2344, 2344],\n",
       "       [2344, 2344, 2344, 2349, 2349, 2344, 2349, 2349, 2349, 2344, 2349,\n",
       "        2344, 2349, 2349, 2349, 2344, 2349, 2344, 2349, 2344, 2349, 2349,\n",
       "        2344, 2344, 2344, 2344, 2344, 2344, 2344,    0,    0,    0,    0,\n",
       "           0,    0,    0,    0,    0,    0,    0,    0,    0,    0,    0,\n",
       "           0,    0,    0,    0,    0,    0,    0,    0,    0,    0,    0,\n",
       "           0,    0,    0,    0,    0,    0,    0,    0,    0,    0,    0,\n",
       "           0,    0,    0,    0,    0,    0,    0,    0,    0,    0,    0],\n",
       "       [2344, 2344, 2344, 2349, 2349, 2349, 2344, 2349, 2349, 2349, 2349,\n",
       "        2349, 2344, 2349, 2349, 2349, 2349, 2349, 2349, 2344, 2349, 2344,\n",
       "        2349, 2349, 2349, 2344, 2349, 2349, 2349, 2344, 2344, 2344, 2344,\n",
       "        2344,    0,    0,    0,    0,    0,    0,    0,    0,    0,    0,\n",
       "           0,    0,    0,    0,    0,    0,    0,    0,    0,    0,    0,\n",
       "           0,    0,    0,    0,    0,    0,    0,    0,    0,    0,    0,\n",
       "           0,    0,    0,    0,    0,    0,    0,    0,    0,    0,    0],\n",
       "       [2344, 2344, 2344, 2344, 2344, 2349, 2344, 2344, 2344, 2344, 2344,\n",
       "        2344, 2344, 2344, 2344, 2344, 2344, 2344, 2344, 2349, 2349, 2344,\n",
       "        2344,    0,    0,    0,    0,    0,    0,    0,    0,    0,    0,\n",
       "           0,    0,    0,    0,    0,    0,    0,    0,    0,    0,    0,\n",
       "           0,    0,    0,    0,    0,    0,    0,    0,    0,    0,    0,\n",
       "           0,    0,    0,    0,    0,    0,    0,    0,    0,    0,    0,\n",
       "           0,    0,    0,    0,    0,    0,    0,    0,    0,    0,    0],\n",
       "       [2344, 2344, 2344, 2349, 2344, 2344, 2344, 1533, 2349, 2349, 2349,\n",
       "        2349, 2349, 2344, 2349,    0,    0,    0,    0,    0,    0,    0,\n",
       "           0,    0,    0,    0,    0,    0,    0,    0,    0,    0,    0,\n",
       "           0,    0,    0,    0,    0,    0,    0,    0,    0,    0,    0,\n",
       "           0,    0,    0,    0,    0,    0,    0,    0,    0,    0,    0,\n",
       "           0,    0,    0,    0,    0,    0,    0,    0,    0,    0,    0,\n",
       "           0,    0,    0,    0,    0,    0,    0,    0,    0,    0,    0]],\n",
       "      dtype=int32)"
      ]
     },
     "execution_count": 281,
     "metadata": {},
     "output_type": "execute_result"
    }
   ],
   "source": [
    "y"
   ]
  },
  {
   "cell_type": "code",
   "execution_count": 284,
   "metadata": {},
   "outputs": [],
   "source": [
    "from keras.preprocessing.sequence import pad_sequences\n",
    "from keras.utils import to_categorical\n",
    "\n",
    "from sklearn.model_selection import train_test_split"
   ]
  },
  {
   "cell_type": "code",
   "execution_count": 285,
   "metadata": {},
   "outputs": [],
   "source": [
    "X_train, X_test, y_train, y_test = train_test_split(X, y, test_size=0.2)"
   ]
  },
  {
   "cell_type": "code",
   "execution_count": 288,
   "metadata": {},
   "outputs": [
    {
     "data": {
      "text/plain": [
       "(4, 77)"
      ]
     },
     "execution_count": 288,
     "metadata": {},
     "output_type": "execute_result"
    }
   ],
   "source": [
    "X_train.shape"
   ]
  },
  {
   "cell_type": "code",
   "execution_count": 291,
   "metadata": {},
   "outputs": [
    {
     "data": {
      "text/plain": [
       "77"
      ]
     },
     "execution_count": 291,
     "metadata": {},
     "output_type": "execute_result"
    }
   ],
   "source": [
    "len(demo_y[0])"
   ]
  },
  {
   "cell_type": "code",
   "execution_count": 292,
   "metadata": {},
   "outputs": [
    {
     "ename": "ModuleNotFoundError",
     "evalue": "No module named 'keras_contrib'",
     "output_type": "error",
     "traceback": [
      "\u001b[0;31m---------------------------------------------------------------------------\u001b[0m",
      "\u001b[0;31mModuleNotFoundError\u001b[0m                       Traceback (most recent call last)",
      "\u001b[0;32m<ipython-input-292-e3d4eaab8425>\u001b[0m in \u001b[0;36m<module>\u001b[0;34m()\u001b[0m\n\u001b[1;32m      2\u001b[0m \u001b[0;32mfrom\u001b[0m \u001b[0mkeras\u001b[0m\u001b[0;34m.\u001b[0m\u001b[0mlayers\u001b[0m \u001b[0;32mimport\u001b[0m \u001b[0mLSTM\u001b[0m\u001b[0;34m,\u001b[0m \u001b[0mEmbedding\u001b[0m\u001b[0;34m,\u001b[0m \u001b[0mDense\u001b[0m\u001b[0;34m,\u001b[0m \u001b[0mTimeDistributed\u001b[0m\u001b[0;34m,\u001b[0m \u001b[0mDropout\u001b[0m\u001b[0;34m,\u001b[0m \u001b[0mBidirectional\u001b[0m\u001b[0;34m\u001b[0m\u001b[0;34m\u001b[0m\u001b[0m\n\u001b[1;32m      3\u001b[0m \u001b[0;32mimport\u001b[0m \u001b[0mkeras\u001b[0m \u001b[0;32mas\u001b[0m \u001b[0mk\u001b[0m\u001b[0;34m\u001b[0m\u001b[0;34m\u001b[0m\u001b[0m\n\u001b[0;32m----> 4\u001b[0;31m \u001b[0;32mfrom\u001b[0m \u001b[0mkeras_contrib\u001b[0m\u001b[0;34m.\u001b[0m\u001b[0mlayers\u001b[0m \u001b[0;32mimport\u001b[0m \u001b[0mCRF\u001b[0m\u001b[0;34m\u001b[0m\u001b[0;34m\u001b[0m\u001b[0m\n\u001b[0m\u001b[1;32m      5\u001b[0m \u001b[0;34m\u001b[0m\u001b[0m\n\u001b[1;32m      6\u001b[0m \u001b[0minput\u001b[0m \u001b[0;34m=\u001b[0m \u001b[0mInput\u001b[0m\u001b[0;34m(\u001b[0m\u001b[0mshape\u001b[0m\u001b[0;34m=\u001b[0m\u001b[0;34m(\u001b[0m\u001b[0;36m77\u001b[0m\u001b[0;34m,\u001b[0m\u001b[0;34m)\u001b[0m\u001b[0;34m)\u001b[0m\u001b[0;34m\u001b[0m\u001b[0;34m\u001b[0m\u001b[0m\n",
      "\u001b[0;31mModuleNotFoundError\u001b[0m: No module named 'keras_contrib'"
     ]
    }
   ],
   "source": [
    "from keras.models import Model, Input\n",
    "from keras.layers import LSTM, Embedding, Dense, TimeDistributed, Dropout, Bidirectional\n",
    "import keras as k\n",
    "from keras_contrib.layers import CRF\n",
    "\n",
    "input = Input(shape=(77,))\n",
    "word_embedding_size = 150\n",
    "\n",
    "# Embedding Layer\n",
    "model = Embedding(input_dim=2351, output_dim=word_embedding_size, input_length=77)(input)\n",
    "\n",
    "# BI-LSTM Layer\n",
    "model = Bidirectional(LSTM(units=word_embedding_size, \n",
    "                           return_sequences=True, \n",
    "                           dropout=0.5, \n",
    "                           recurrent_dropout=0.5, \n",
    "                           kernel_initializer=k.initializers.he_normal()))(model)\n",
    "model = LSTM(units=word_embedding_size * 2, \n",
    "             return_sequences=True, \n",
    "             dropout=0.5, \n",
    "             recurrent_dropout=0.5, \n",
    "             kernel_initializer=k.initializers.he_normal())(model)\n",
    "\n",
    "# TimeDistributed Layer\n",
    "model = TimeDistributed(Dense(77, activation=\"relu\"))(model)  \n",
    "\n",
    "# CRF Layer\n",
    "crf = CRF(77)\n",
    "\n",
    "out = crf(model)  # output\n",
    "model = Model(input, out)"
   ]
  },
  {
   "cell_type": "code",
   "execution_count": null,
   "metadata": {},
   "outputs": [],
   "source": []
  }
 ],
 "metadata": {
  "kernelspec": {
   "display_name": "Python 3",
   "language": "python",
   "name": "python3"
  },
  "language_info": {
   "codemirror_mode": {
    "name": "ipython",
    "version": 3
   },
   "file_extension": ".py",
   "mimetype": "text/x-python",
   "name": "python",
   "nbconvert_exporter": "python",
   "pygments_lexer": "ipython3",
   "version": "3.6.9"
  }
 },
 "nbformat": 4,
 "nbformat_minor": 2
}
