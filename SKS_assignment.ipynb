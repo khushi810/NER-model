{
  "nbformat": 4,
  "nbformat_minor": 0,
  "metadata": {
    "kernelspec": {
      "display_name": "Python 3",
      "language": "python",
      "name": "python3"
    },
    "language_info": {
      "codemirror_mode": {
        "name": "ipython",
        "version": 3
      },
      "file_extension": ".py",
      "mimetype": "text/x-python",
      "name": "python",
      "nbconvert_exporter": "python",
      "pygments_lexer": "ipython3",
      "version": "3.6.9"
    },
    "colab": {
      "name": "SKS_assignment.ipynb",
      "provenance": [],
      "toc_visible": true
    },
    "accelerator": "GPU"
  },
  "cells": [
    {
      "cell_type": "markdown",
      "metadata": {
        "id": "Dt5f1WomdWen"
      },
      "source": [
        "## Assignment"
      ]
    },
    {
      "cell_type": "markdown",
      "metadata": {
        "id": "F8WCLZ3ddWep"
      },
      "source": [
        "- Task - 1 Write a function that takes OfferDetails as input, and returns FaceValue as output\n",
        "- Task - 2 Write a function that takes OfferDetails as input, and returns Product as output (Product can be single or array)"
      ]
    },
    {
      "cell_type": "markdown",
      "metadata": {
        "id": "fphMGFaCdWeq"
      },
      "source": [
        "### Task - 1"
      ]
    },
    {
      "cell_type": "markdown",
      "metadata": {
        "id": "U2pd6H3kdWer"
      },
      "source": [
        "- We have to extract FaceValue from the offerdetails. FaceValue is the savings on the offer , generally a number"
      ]
    },
    {
      "cell_type": "code",
      "metadata": {
        "id": "5N83p1oydWet"
      },
      "source": [
        "import pandas as pd\n",
        "import re"
      ],
      "execution_count": 12,
      "outputs": []
    },
    {
      "cell_type": "code",
      "metadata": {
        "id": "pAO7wEIpdWey"
      },
      "source": [
        "data = pd.read_csv('/content/drive/My Drive/SKS/coupons_ner.csv', header=None)"
      ],
      "execution_count": 13,
      "outputs": []
    },
    {
      "cell_type": "code",
      "metadata": {
        "id": "m6mml_DEdWe2",
        "outputId": "eda77870-f27c-4830-d67c-11045635a2ef",
        "colab": {
          "base_uri": "https://localhost:8080/",
          "height": 34
        }
      },
      "source": [
        "data.shape"
      ],
      "execution_count": 14,
      "outputs": [
        {
          "output_type": "execute_result",
          "data": {
            "text/plain": [
              "(886, 1)"
            ]
          },
          "metadata": {
            "tags": []
          },
          "execution_count": 14
        }
      ]
    },
    {
      "cell_type": "markdown",
      "metadata": {
        "id": "Us0BeGX9dWe9"
      },
      "source": [
        "- Below represents sample coupon data for a retailer. "
      ]
    },
    {
      "cell_type": "code",
      "metadata": {
        "id": "0OiyflsPdWe9",
        "outputId": "69d9755f-001c-4b4c-cfc9-5dceb33adfca"
      },
      "source": [
        "data"
      ],
      "execution_count": null,
      "outputs": [
        {
          "output_type": "execute_result",
          "data": {
            "text/html": [
              "<div>\n",
              "<style scoped>\n",
              "    .dataframe tbody tr th:only-of-type {\n",
              "        vertical-align: middle;\n",
              "    }\n",
              "\n",
              "    .dataframe tbody tr th {\n",
              "        vertical-align: top;\n",
              "    }\n",
              "\n",
              "    .dataframe thead th {\n",
              "        text-align: right;\n",
              "    }\n",
              "</style>\n",
              "<table border=\"1\" class=\"dataframe\">\n",
              "  <thead>\n",
              "    <tr style=\"text-align: right;\">\n",
              "      <th></th>\n",
              "      <th>0</th>\n",
              "    </tr>\n",
              "  </thead>\n",
              "  <tbody>\n",
              "    <tr>\n",
              "      <th>0</th>\n",
              "      <td>Save $2.00 ONE Downy Liquid Fabric Conditioner...</td>\n",
              "    </tr>\n",
              "    <tr>\n",
              "      <th>1</th>\n",
              "      <td>Save $2.00 ONE Tide PODS OR Tide Power PODS (e...</td>\n",
              "    </tr>\n",
              "    <tr>\n",
              "      <th>2</th>\n",
              "      <td>Save $2.00 ONE Tide Laundry Detergent (exclude...</td>\n",
              "    </tr>\n",
              "    <tr>\n",
              "      <th>3</th>\n",
              "      <td>SAVE $1.00 ON TWO when you buy TWO BOXES (8.9 ...</td>\n",
              "    </tr>\n",
              "    <tr>\n",
              "      <th>4</th>\n",
              "      <td>$3.00 OFF when you purchase any THREE (3) Pepp...</td>\n",
              "    </tr>\n",
              "    <tr>\n",
              "      <th>5</th>\n",
              "      <td>SAVE $1.11 when you buy any ONE (1) Familly Si...</td>\n",
              "    </tr>\n",
              "    <tr>\n",
              "      <th>6</th>\n",
              "      <td>SAVE $1.00 ON TWO when you buy TWO PACKAGES an...</td>\n",
              "    </tr>\n",
              "    <tr>\n",
              "      <th>7</th>\n",
              "      <td>Save $1.00 on any TWO (2) Sargento® Natural Ch...</td>\n",
              "    </tr>\n",
              "    <tr>\n",
              "      <th>8</th>\n",
              "      <td>$0.65 OFF On Any ONE (1) Oikos Greek Yogurt Cu...</td>\n",
              "    </tr>\n",
              "    <tr>\n",
              "      <th>9</th>\n",
              "      <td>$2.00 OFF ONE (1) SMALL bag of Eight O'Clock® ...</td>\n",
              "    </tr>\n",
              "    <tr>\n",
              "      <th>10</th>\n",
              "      <td>Save $0.50 ONE Tide Simply Laundry Detergent 3...</td>\n",
              "    </tr>\n",
              "    <tr>\n",
              "      <th>11</th>\n",
              "      <td>SAVE $1.00 ON TWO when you buy TWO BOXES any f...</td>\n",
              "    </tr>\n",
              "    <tr>\n",
              "      <th>12</th>\n",
              "      <td>$0.50 OFF on ONE (1) Frigo® Cheese Heads® 8ct ...</td>\n",
              "    </tr>\n",
              "    <tr>\n",
              "      <th>13</th>\n",
              "      <td>Save $0.50 off ONE (1) jar of Pace® Salsa or P...</td>\n",
              "    </tr>\n",
              "    <tr>\n",
              "      <th>14</th>\n",
              "      <td>$1.00 OFF on any THREE (3) noosa® yoghurts</td>\n",
              "    </tr>\n",
              "    <tr>\n",
              "      <th>15</th>\n",
              "      <td>Save $1.00 on any ONE (1) Gardein™ Frozen Item</td>\n",
              "    </tr>\n",
              "    <tr>\n",
              "      <th>16</th>\n",
              "      <td>Save $1.00 ONE Gain Flings 12 ct TO 26 ct OR G...</td>\n",
              "    </tr>\n",
              "    <tr>\n",
              "      <th>17</th>\n",
              "      <td>Save $0.50 on any ONE (1) pack of Energizer® B...</td>\n",
              "    </tr>\n",
              "    <tr>\n",
              "      <th>18</th>\n",
              "      <td>SAVE $2.00 on TWO (2) Purina® Beggin®, Busy® o...</td>\n",
              "    </tr>\n",
              "    <tr>\n",
              "      <th>19</th>\n",
              "      <td>Save $0.50 on any one (1) Pine-Sol® product, 4...</td>\n",
              "    </tr>\n",
              "    <tr>\n",
              "      <th>20</th>\n",
              "      <td>SAVE $1.00 ON ONE when you buy ONE PACKAGE any...</td>\n",
              "    </tr>\n",
              "    <tr>\n",
              "      <th>21</th>\n",
              "      <td>SAVE $1.25 on any ONE (1) crunchy Crunchmaster...</td>\n",
              "    </tr>\n",
              "    <tr>\n",
              "      <th>22</th>\n",
              "      <td>Save $2.00 ONE Dreft Newborn Laundry Detergent...</td>\n",
              "    </tr>\n",
              "    <tr>\n",
              "      <th>23</th>\n",
              "      <td>$1.00 OFF any THREE (3) Happy Baby Organics &amp;a...</td>\n",
              "    </tr>\n",
              "    <tr>\n",
              "      <th>24</th>\n",
              "      <td>Save $1.00 on any ONE (1) Udi's® Frozen Item</td>\n",
              "    </tr>\n",
              "    <tr>\n",
              "      <th>25</th>\n",
              "      <td>Save $1.00 ONE Downy Liquid Fabric Conditioner...</td>\n",
              "    </tr>\n",
              "    <tr>\n",
              "      <th>26</th>\n",
              "      <td>Save $1.00 ONE Gain Liquid Fabric Softener 48 ...</td>\n",
              "    </tr>\n",
              "    <tr>\n",
              "      <th>27</th>\n",
              "      <td>$1.00 OFF on any ONE (1) Tillamook® Ice Cream ...</td>\n",
              "    </tr>\n",
              "    <tr>\n",
              "      <th>28</th>\n",
              "      <td>Save $1.00 on Any ONE (1) BENADRYL® 20ct, 24ct...</td>\n",
              "    </tr>\n",
              "    <tr>\n",
              "      <th>29</th>\n",
              "      <td>Save $1.00 ONE Oral-B Glide Manual Floss, Flos...</td>\n",
              "    </tr>\n",
              "    <tr>\n",
              "      <th>...</th>\n",
              "      <td>...</td>\n",
              "    </tr>\n",
              "    <tr>\n",
              "      <th>856</th>\n",
              "      <td>SAVE $2.50 on ONE Fixodent Cleanser Tabs when ...</td>\n",
              "    </tr>\n",
              "    <tr>\n",
              "      <th>857</th>\n",
              "      <td>SAVE $1.00 on Any ONE (1) BENADRYL® 20ct, 24ct...</td>\n",
              "    </tr>\n",
              "    <tr>\n",
              "      <th>858</th>\n",
              "      <td>$5.00 OFF on any ONE (1) Osteo Bi-Flex® produc...</td>\n",
              "    </tr>\n",
              "    <tr>\n",
              "      <th>859</th>\n",
              "      <td>SAVE $3.00 ONLY On Colgate® Optic White® Renew...</td>\n",
              "    </tr>\n",
              "    <tr>\n",
              "      <th>860</th>\n",
              "      <td>SAVE $5.00 on TWO Pantene Pro-V Ingredients OR...</td>\n",
              "    </tr>\n",
              "    <tr>\n",
              "      <th>861</th>\n",
              "      <td>$4.00 OFF on ONE (1) Allegra® Allergy 24ct or ...</td>\n",
              "    </tr>\n",
              "    <tr>\n",
              "      <th>862</th>\n",
              "      <td>SAVE $3.00 ONE (1) Nexium® 24HR 28ct or larger</td>\n",
              "    </tr>\n",
              "    <tr>\n",
              "      <th>863</th>\n",
              "      <td>$0.50 OFF ONE (1) bag of Bridgford Sweet Baby ...</td>\n",
              "    </tr>\n",
              "    <tr>\n",
              "      <th>864</th>\n",
              "      <td>SAVE $1.00 on ONE (1) NIVEA® Body Wash 20 fl. oz.</td>\n",
              "    </tr>\n",
              "    <tr>\n",
              "      <th>865</th>\n",
              "      <td>SAVE $3.00 off any ONE (1) Children's Claritin...</td>\n",
              "    </tr>\n",
              "    <tr>\n",
              "      <th>866</th>\n",
              "      <td>SAVE $0.50 On One (1) Can of Fix-a-Flat® 16 oz.</td>\n",
              "    </tr>\n",
              "    <tr>\n",
              "      <th>867</th>\n",
              "      <td>SAVE 75¢ when you buy ONE (1) bubly™ sparkling...</td>\n",
              "    </tr>\n",
              "    <tr>\n",
              "      <th>868</th>\n",
              "      <td>SAVE $2.00 off any ONE (1) Banana Boat® or Haw...</td>\n",
              "    </tr>\n",
              "    <tr>\n",
              "      <th>869</th>\n",
              "      <td>SAVE $3.00 off ONE (1) Claritin® 20ct</td>\n",
              "    </tr>\n",
              "    <tr>\n",
              "      <th>870</th>\n",
              "      <td>$4.00 OFF on any ONE (1) 12ct. multipack SHEBA...</td>\n",
              "    </tr>\n",
              "    <tr>\n",
              "      <th>871</th>\n",
              "      <td>$1.00 OFF any ONE (1) FINISH® Automatic Dishwa...</td>\n",
              "    </tr>\n",
              "    <tr>\n",
              "      <th>872</th>\n",
              "      <td>SAVE $1.00 ONE Oral-B Special Care Oral Rinse ...</td>\n",
              "    </tr>\n",
              "    <tr>\n",
              "      <th>873</th>\n",
              "      <td>SAVE $0.50 off ONE (1) MAXWELL HOUSE Iced Coff...</td>\n",
              "    </tr>\n",
              "    <tr>\n",
              "      <th>874</th>\n",
              "      <td>SAVE $1.00 on ANY ONE (1) bag of NEW Kingsford...</td>\n",
              "    </tr>\n",
              "    <tr>\n",
              "      <th>875</th>\n",
              "      <td>SAVE $2.00 when you spend $6.00 on any Degree ...</td>\n",
              "    </tr>\n",
              "    <tr>\n",
              "      <th>876</th>\n",
              "      <td>SAVE $2.00 when you spend $6 on any Quaker Pro...</td>\n",
              "    </tr>\n",
              "    <tr>\n",
              "      <th>877</th>\n",
              "      <td>SAVE $1.00 when you buy ONE (1) 28 oz.TRESemmé...</td>\n",
              "    </tr>\n",
              "    <tr>\n",
              "      <th>878</th>\n",
              "      <td>SAVE $1.00 on DGH Auto Spray Refills Twin Packs</td>\n",
              "    </tr>\n",
              "    <tr>\n",
              "      <th>879</th>\n",
              "      <td>SAVE $3.00 when you spend $10 on any Bayer Con...</td>\n",
              "    </tr>\n",
              "    <tr>\n",
              "      <th>880</th>\n",
              "      <td>BUY TWO GET ONE Buy ONE (1) SOUR PATCH KIDS or...</td>\n",
              "    </tr>\n",
              "    <tr>\n",
              "      <th>881</th>\n",
              "      <td>SAVE $2.00 when you buy $7 worth of participat...</td>\n",
              "    </tr>\n",
              "    <tr>\n",
              "      <th>882</th>\n",
              "      <td>SAVE $5.00 on any Gain scented purchase of $30...</td>\n",
              "    </tr>\n",
              "    <tr>\n",
              "      <th>883</th>\n",
              "      <td>SAVE $1.00 when you buy any ONE (1) NEW AXE pr...</td>\n",
              "    </tr>\n",
              "    <tr>\n",
              "      <th>884</th>\n",
              "      <td>BUY TWO GET ONE Buy ONE (1) CHIPS AHOY! Cookie...</td>\n",
              "    </tr>\n",
              "    <tr>\n",
              "      <th>885</th>\n",
              "      <td>SAVE $2.00 when you spend $6 on all Suave® pro...</td>\n",
              "    </tr>\n",
              "  </tbody>\n",
              "</table>\n",
              "<p>886 rows × 1 columns</p>\n",
              "</div>"
            ],
            "text/plain": [
              "                                                     0\n",
              "0    Save $2.00 ONE Downy Liquid Fabric Conditioner...\n",
              "1    Save $2.00 ONE Tide PODS OR Tide Power PODS (e...\n",
              "2    Save $2.00 ONE Tide Laundry Detergent (exclude...\n",
              "3    SAVE $1.00 ON TWO when you buy TWO BOXES (8.9 ...\n",
              "4    $3.00 OFF when you purchase any THREE (3) Pepp...\n",
              "5    SAVE $1.11 when you buy any ONE (1) Familly Si...\n",
              "6    SAVE $1.00 ON TWO when you buy TWO PACKAGES an...\n",
              "7    Save $1.00 on any TWO (2) Sargento® Natural Ch...\n",
              "8    $0.65 OFF On Any ONE (1) Oikos Greek Yogurt Cu...\n",
              "9    $2.00 OFF ONE (1) SMALL bag of Eight O'Clock® ...\n",
              "10   Save $0.50 ONE Tide Simply Laundry Detergent 3...\n",
              "11   SAVE $1.00 ON TWO when you buy TWO BOXES any f...\n",
              "12   $0.50 OFF on ONE (1) Frigo® Cheese Heads® 8ct ...\n",
              "13   Save $0.50 off ONE (1) jar of Pace® Salsa or P...\n",
              "14          $1.00 OFF on any THREE (3) noosa® yoghurts\n",
              "15      Save $1.00 on any ONE (1) Gardein™ Frozen Item\n",
              "16   Save $1.00 ONE Gain Flings 12 ct TO 26 ct OR G...\n",
              "17   Save $0.50 on any ONE (1) pack of Energizer® B...\n",
              "18   SAVE $2.00 on TWO (2) Purina® Beggin®, Busy® o...\n",
              "19   Save $0.50 on any one (1) Pine-Sol® product, 4...\n",
              "20   SAVE $1.00 ON ONE when you buy ONE PACKAGE any...\n",
              "21   SAVE $1.25 on any ONE (1) crunchy Crunchmaster...\n",
              "22   Save $2.00 ONE Dreft Newborn Laundry Detergent...\n",
              "23   $1.00 OFF any THREE (3) Happy Baby Organics &a...\n",
              "24        Save $1.00 on any ONE (1) Udi's® Frozen Item\n",
              "25   Save $1.00 ONE Downy Liquid Fabric Conditioner...\n",
              "26   Save $1.00 ONE Gain Liquid Fabric Softener 48 ...\n",
              "27   $1.00 OFF on any ONE (1) Tillamook® Ice Cream ...\n",
              "28   Save $1.00 on Any ONE (1) BENADRYL® 20ct, 24ct...\n",
              "29   Save $1.00 ONE Oral-B Glide Manual Floss, Flos...\n",
              "..                                                 ...\n",
              "856  SAVE $2.50 on ONE Fixodent Cleanser Tabs when ...\n",
              "857  SAVE $1.00 on Any ONE (1) BENADRYL® 20ct, 24ct...\n",
              "858  $5.00 OFF on any ONE (1) Osteo Bi-Flex® produc...\n",
              "859  SAVE $3.00 ONLY On Colgate® Optic White® Renew...\n",
              "860  SAVE $5.00 on TWO Pantene Pro-V Ingredients OR...\n",
              "861  $4.00 OFF on ONE (1) Allegra® Allergy 24ct or ...\n",
              "862     SAVE $3.00 ONE (1) Nexium® 24HR 28ct or larger\n",
              "863  $0.50 OFF ONE (1) bag of Bridgford Sweet Baby ...\n",
              "864  SAVE $1.00 on ONE (1) NIVEA® Body Wash 20 fl. oz.\n",
              "865  SAVE $3.00 off any ONE (1) Children's Claritin...\n",
              "866    SAVE $0.50 On One (1) Can of Fix-a-Flat® 16 oz.\n",
              "867  SAVE 75¢ when you buy ONE (1) bubly™ sparkling...\n",
              "868  SAVE $2.00 off any ONE (1) Banana Boat® or Haw...\n",
              "869              SAVE $3.00 off ONE (1) Claritin® 20ct\n",
              "870  $4.00 OFF on any ONE (1) 12ct. multipack SHEBA...\n",
              "871  $1.00 OFF any ONE (1) FINISH® Automatic Dishwa...\n",
              "872  SAVE $1.00 ONE Oral-B Special Care Oral Rinse ...\n",
              "873  SAVE $0.50 off ONE (1) MAXWELL HOUSE Iced Coff...\n",
              "874  SAVE $1.00 on ANY ONE (1) bag of NEW Kingsford...\n",
              "875  SAVE $2.00 when you spend $6.00 on any Degree ...\n",
              "876  SAVE $2.00 when you spend $6 on any Quaker Pro...\n",
              "877  SAVE $1.00 when you buy ONE (1) 28 oz.TRESemmé...\n",
              "878    SAVE $1.00 on DGH Auto Spray Refills Twin Packs\n",
              "879  SAVE $3.00 when you spend $10 on any Bayer Con...\n",
              "880  BUY TWO GET ONE Buy ONE (1) SOUR PATCH KIDS or...\n",
              "881  SAVE $2.00 when you buy $7 worth of participat...\n",
              "882  SAVE $5.00 on any Gain scented purchase of $30...\n",
              "883  SAVE $1.00 when you buy any ONE (1) NEW AXE pr...\n",
              "884  BUY TWO GET ONE Buy ONE (1) CHIPS AHOY! Cookie...\n",
              "885  SAVE $2.00 when you spend $6 on all Suave® pro...\n",
              "\n",
              "[886 rows x 1 columns]"
            ]
          },
          "metadata": {
            "tags": []
          },
          "execution_count": 15
        }
      ]
    },
    {
      "cell_type": "code",
      "metadata": {
        "id": "V_jh0ErWdWfB"
      },
      "source": [
        "# Some includes SAVE or Save\n",
        "# Includes $ and ¢\n",
        "# Includes OFF\n",
        "pattern = r'^(?:(?:Save|SAVE) )?(\\$?(?:\\d+)(?:\\.\\d+)?¢?)(?: OFF)?'"
      ],
      "execution_count": null,
      "outputs": []
    },
    {
      "cell_type": "code",
      "metadata": {
        "id": "97sZ2wnJdWfF"
      },
      "source": [
        "def fun1(data):\n",
        "    '''Function to extract FaceValue'''\n",
        "    FaceValue = []\n",
        "    for _, item in data[0].iteritems():\n",
        "        FaceValue.append(re.findall(pattern, item)) #find the pattern\n",
        "    return FaceValue"
      ],
      "execution_count": null,
      "outputs": []
    },
    {
      "cell_type": "code",
      "metadata": {
        "id": "OJknLYyLdWfJ"
      },
      "source": [
        "# For each offerdetails we extract FAceValue\n",
        "FaceValue = fun1(data)"
      ],
      "execution_count": null,
      "outputs": []
    },
    {
      "cell_type": "code",
      "metadata": {
        "id": "LMcNQ8ykdWfN"
      },
      "source": [
        "# Find the offerdetails which don't include FaceValue as describes by the above pattern\n",
        "empty_index = []\n",
        "for i, ele in enumerate(FaceValue):\n",
        "    if not ele:\n",
        "        empty_index.append(i)"
      ],
      "execution_count": null,
      "outputs": []
    },
    {
      "cell_type": "code",
      "metadata": {
        "id": "MtFQIeOTdWfQ",
        "outputId": "647a0350-d101-4b96-df51-ca56eca1393f"
      },
      "source": [
        "len(empty_index)"
      ],
      "execution_count": null,
      "outputs": [
        {
          "output_type": "execute_result",
          "data": {
            "text/plain": [
              "308"
            ]
          },
          "metadata": {
            "tags": []
          },
          "execution_count": 93
        }
      ]
    },
    {
      "cell_type": "markdown",
      "metadata": {
        "id": "L3RFpiOOdWfT"
      },
      "source": [
        "- Total 308 product details are without facevalue."
      ]
    },
    {
      "cell_type": "code",
      "metadata": {
        "id": "OwGq05vqdWfT",
        "outputId": "514bd924-4a6b-4bf9-d8bb-fc76d84ef3bf"
      },
      "source": [
        "data[0].iloc[270:300]"
      ],
      "execution_count": null,
      "outputs": [
        {
          "output_type": "execute_result",
          "data": {
            "text/plain": [
              "270    Osteo Bi-Flex® on any ONE (1) Osteo Bi-Flex® p...\n",
              "271        CLIF BAR® on any ONE (1) CLIF® Bar Multipack.\n",
              "272    BENADRYL® on Any ONE (1) BENADRYL® 20ct, 24ct ...\n",
              "273    Claritin® off any ONE (1) Claritin® Cool Mint ...\n",
              "274    Claritin-D® off any ONE (1) Claritin-D® 15ct o...\n",
              "275    Claritin® off any ONE (1) Children's Claritin®...\n",
              "276    Claritin® off any ONE (1) Children's Claritin®...\n",
              "277     Ensure® on Any TWO (2) Ensure Multi-Pack Shakes.\n",
              "278    Aleve® on any ONE (1) Aleve® or Aleve®PM produ...\n",
              "279    Adult ZYRTEC® when you buy ONE (1) Adult ZYRTE...\n",
              "280          Florastor on any ONE (1) Florastor product.\n",
              "281    Allegra® on ONE (1) Allegra® Allergy 24ct or l...\n",
              "282                            Dixie Tableware 40-94-ct.\n",
              "283    Kingsford Match Light or Charcoal... 12-16-lb....\n",
              "284    Pabst Blue Ribbon on ONE (1) Pabst Blue Ribbon...\n",
              "285    Tide ONE Tide Laundry Detergent 37 oz TO 50 oz...\n",
              "286    Tide ONE Tide PODS 16 ct OR 12 ct (excludes Ti...\n",
              "287    Chinet® Cut Crystal® Buy TWO (2) Chinet® Cut C...\n",
              "288    Gain ONE Gain Flings 16 ct OR 14 ct OR 12 ct O...\n",
              "289    Gain ONE Gain Liquid Fabric Softener 48 ld OR ...\n",
              "290       Raid® any ONE (1) Raid® Wasp & Hornet Product.\n",
              "291               OFF!® any ONE (1) OFF!® brand product.\n",
              "292    Raid® on any ONE (1) Raid® Essential Oils Prod...\n",
              "293    OFF!® on any ONE (1) OFF!® Product (Excludes C...\n",
              "294                         Tillamook Ice Cream 1.75-qt.\n",
              "295                          Popsicle Novelties 9-18-ct.\n",
              "296    Pepperidge Farm Turnovers 12.5-oz. or 19.6-oz....\n",
              "297    Signature SELECT Frozen Dessert 8-9.87-oz. Lim...\n",
              "298          Signature SELECT Ice Cream 1.5-qt. Limit 1.\n",
              "299    Tillamook® Ice Cream on any TWO (2) Tillamook®...\n",
              "Name: 0, dtype: object"
            ]
          },
          "metadata": {
            "tags": []
          },
          "execution_count": 88
        }
      ]
    },
    {
      "cell_type": "markdown",
      "metadata": {
        "id": "ov0rvmUwdWfY"
      },
      "source": [
        "- Above are some offerdetails which dont include FAceValue"
      ]
    },
    {
      "cell_type": "markdown",
      "metadata": {
        "id": "w9JXmLr8dWfa"
      },
      "source": [
        "### Task - 2"
      ]
    },
    {
      "cell_type": "markdown",
      "metadata": {
        "id": "ZOvxmqd1dWfb"
      },
      "source": [
        "- In this task we have to extract product names from offer details.\n",
        "- Product - Can be a single value or an array."
      ]
    },
    {
      "cell_type": "markdown",
      "metadata": {
        "id": "mFm76IfddWfc"
      },
      "source": [
        "#### NER model"
      ]
    },
    {
      "cell_type": "markdown",
      "metadata": {
        "id": "zICxSwMDdWfd"
      },
      "source": [
        "- For this task we have to build product corpus manually and from that we have to build NER model which recognizes product as P(Product) and remaining words as O (Other).\n",
        "- We first extract all words from offerdetails.\n",
        "- We will find unique words to label.\n",
        "- Manually we will label the words (P/O) in a text file- words.txt.\n",
        "- To label words we assume some notations like, ®, ™ which are mostlly in product names.\n",
        "- Some word along with numbers like 8-9.87-oz, 5.7-6.50 , lb, liter, gallon which are not in product names.\n",
        "- Some brand names like huggies, Hershey's, Tide, Pulsar, etc\n",
        "- After manual labelling we will use many-to-many LSTM based architecture in which offerdeatails is input and tags for each word is output.\n",
        "- We will use Adam optimizer, sparse_categorical_cross_entropy as loss function.\n"
      ]
    },
    {
      "cell_type": "markdown",
      "metadata": {
        "id": "Q-Q-DubNdWfd"
      },
      "source": [
        "- Find Unique words from offer details."
      ]
    },
    {
      "cell_type": "code",
      "metadata": {
        "id": "IACbTHVNdf4X",
        "outputId": "aade172e-736c-484f-c883-6fa2d495ae5d",
        "colab": {
          "base_uri": "https://localhost:8080/",
          "height": 35
        }
      },
      "source": [
        "tf.__version__"
      ],
      "execution_count": 3,
      "outputs": [
        {
          "output_type": "execute_result",
          "data": {
            "application/vnd.google.colaboratory.intrinsic+json": {
              "type": "string"
            },
            "text/plain": [
              "'2.3.0'"
            ]
          },
          "metadata": {
            "tags": []
          },
          "execution_count": 3
        }
      ]
    },
    {
      "cell_type": "code",
      "metadata": {
        "id": "XnD_xkvNdWfe"
      },
      "source": [
        "import tensorflow as tf\n",
        "from tensorflow.keras.preprocessing.sequence import pad_sequences\n",
        "from sklearn.model_selection import train_test_split\n",
        "from tensorflow.keras.layers import LSTM, GRU, Dense, Input, Embedding, Bidirectional\n",
        "from tensorflow.keras.models import Model"
      ],
      "execution_count": 1,
      "outputs": []
    },
    {
      "cell_type": "code",
      "metadata": {
        "id": "lEcLD9MJdWfi"
      },
      "source": [
        "words = []\n",
        "for _, ele in data[0].iteritems():\n",
        "    for word in ele.split(' '):\n",
        "        words.append(word.lower())"
      ],
      "execution_count": 15,
      "outputs": []
    },
    {
      "cell_type": "code",
      "metadata": {
        "id": "_boWNbypdWfl",
        "outputId": "b9b8ad5b-ad15-457e-b8ba-ebe7951eb4ac",
        "colab": {
          "base_uri": "https://localhost:8080/",
          "height": 34
        }
      },
      "source": [
        "len(words)"
      ],
      "execution_count": 16,
      "outputs": [
        {
          "output_type": "execute_result",
          "data": {
            "text/plain": [
              "15747"
            ]
          },
          "metadata": {
            "tags": []
          },
          "execution_count": 16
        }
      ]
    },
    {
      "cell_type": "code",
      "metadata": {
        "id": "Fdi6KmMtdWfp"
      },
      "source": [
        "unique_words = list(set(words))"
      ],
      "execution_count": 17,
      "outputs": []
    },
    {
      "cell_type": "code",
      "metadata": {
        "id": "t2xp2Te7dWfs",
        "outputId": "eedbd576-24fb-40e2-b772-ffc715f508cd",
        "colab": {
          "base_uri": "https://localhost:8080/",
          "height": 34
        }
      },
      "source": [
        "len(unique_words)"
      ],
      "execution_count": 18,
      "outputs": [
        {
          "output_type": "execute_result",
          "data": {
            "text/plain": [
              "2351"
            ]
          },
          "metadata": {
            "tags": []
          },
          "execution_count": 18
        }
      ]
    },
    {
      "cell_type": "code",
      "metadata": {
        "id": "bdL3l5OxdWfw"
      },
      "source": [
        "# Write words in to text file\n",
        "with open('words.txt', 'w') as f:\n",
        "    for item in unique_words:\n",
        "        f.write(\"%s\\n\" % item)"
      ],
      "execution_count": null,
      "outputs": []
    },
    {
      "cell_type": "code",
      "metadata": {
        "id": "YPaIdqMudWfz"
      },
      "source": [
        "# Get words and tags from word.text\n",
        "u_words = []\n",
        "u_tags = []\n",
        "with open('/content/drive/My Drive/SKS/words.txt','r') as f:\n",
        "    for line in f:\n",
        "        lst = line.split(' ')\n",
        "        u_words.append(line.split(' ')[0])\n",
        "        u_tags.append(line.split(' ')[1])"
      ],
      "execution_count": 21,
      "outputs": []
    },
    {
      "cell_type": "code",
      "metadata": {
        "id": "FcLeyXkmdWf3"
      },
      "source": [
        "unique_tagss = list(set(u_tags))"
      ],
      "execution_count": 22,
      "outputs": []
    },
    {
      "cell_type": "code",
      "metadata": {
        "id": "Bi31ZxCmdWf6",
        "outputId": "8678f35b-df97-4f8b-e7a5-7475139515ca",
        "colab": {
          "base_uri": "https://localhost:8080/",
          "height": 34
        }
      },
      "source": [
        "len(u_tags)"
      ],
      "execution_count": 23,
      "outputs": [
        {
          "output_type": "execute_result",
          "data": {
            "text/plain": [
              "2350"
            ]
          },
          "metadata": {
            "tags": []
          },
          "execution_count": 23
        }
      ]
    },
    {
      "cell_type": "code",
      "metadata": {
        "id": "IlmHa7-LdWf8",
        "outputId": "85f8d5f5-d4a8-4bca-ece8-467fb89d16cf",
        "colab": {
          "base_uri": "https://localhost:8080/",
          "height": 34
        }
      },
      "source": [
        "len(u_words)"
      ],
      "execution_count": 24,
      "outputs": [
        {
          "output_type": "execute_result",
          "data": {
            "text/plain": [
              "2350"
            ]
          },
          "metadata": {
            "tags": []
          },
          "execution_count": 24
        }
      ]
    },
    {
      "cell_type": "code",
      "metadata": {
        "id": "P8OdrkVtdWf_"
      },
      "source": [
        "# make a dictionary for word and associated tags\n",
        "word_tag_dictionary = dict(zip(u_words, u_tags))"
      ],
      "execution_count": 25,
      "outputs": []
    },
    {
      "cell_type": "code",
      "metadata": {
        "id": "xkW4zgZmgv-M"
      },
      "source": [
        "word_tag_dictionary"
      ],
      "execution_count": null,
      "outputs": []
    },
    {
      "cell_type": "code",
      "metadata": {
        "id": "fSzkKFsBdWgC"
      },
      "source": [
        "# tags and number dictionary\n",
        "# Her P is for product, O/o is for Other and '' for ''\n",
        "tags = ['', 'P\\n', 'O\\n', 'o\\n']\n",
        "tag_nums = [0, 1, 2, 3]\n",
        "tags_to_numbers = dict(zip(tags, tag_nums))\n",
        "numbers_to_tags = dict(zip(tag_nums, tags))"
      ],
      "execution_count": 27,
      "outputs": []
    },
    {
      "cell_type": "code",
      "metadata": {
        "id": "b48bNNcfdWgF"
      },
      "source": [
        "word_to_numbers = {w: i for i, w in enumerate(unique_words)}"
      ],
      "execution_count": 28,
      "outputs": []
    },
    {
      "cell_type": "code",
      "metadata": {
        "id": "Zgc0dQordWgJ"
      },
      "source": [
        "# Create output Y for tags associated with words in input offerdetails\n",
        "data_y = []\n",
        "for row in data[0]:\n",
        "    label = []\n",
        "    for ele in row.split(' '):\n",
        "        if ele.lower() in word_tag_dictionary:\n",
        "            label.append(tags_to_numbers[word_tag_dictionary[ele.lower()]])\n",
        "    data_y.append(label)"
      ],
      "execution_count": 29,
      "outputs": []
    },
    {
      "cell_type": "code",
      "metadata": {
        "id": "R7jgTM6JdWgP"
      },
      "source": [
        "# Create input X for numbers associated with words in offerdetails\n",
        "data_x = []\n",
        "for row in data[0]:\n",
        "    label = []\n",
        "    for ele in row.split(' '):\n",
        "        if ele.lower() in  word_to_numbers and ele.lower() != '':\n",
        "            label.append(word_to_numbers[ele.lower()])\n",
        "    data_x.append(label)"
      ],
      "execution_count": 30,
      "outputs": []
    },
    {
      "cell_type": "code",
      "metadata": {
        "id": "0V6WOJRYdWgS"
      },
      "source": [
        "# FInd max len from all input\n",
        "length_x = [len(ele) for ele in data_x]\n",
        "maxlen = max(length_x)  "
      ],
      "execution_count": 31,
      "outputs": []
    },
    {
      "cell_type": "code",
      "metadata": {
        "id": "W7tr3OcrdWgV"
      },
      "source": [
        "# Pad X and Y with maxlen\n",
        "X = pad_sequences(maxlen=maxlen, sequences=data_x, padding=\"post\")\n",
        "y = pad_sequences(maxlen=maxlen, sequences=data_y, padding=\"post\")"
      ],
      "execution_count": 32,
      "outputs": []
    },
    {
      "cell_type": "markdown",
      "metadata": {
        "id": "rzKp7fUOdWgY"
      },
      "source": [
        "- Split Train and TEst data using train_test_split"
      ]
    },
    {
      "cell_type": "code",
      "metadata": {
        "id": "JkAxy08jdWgY"
      },
      "source": [
        "X_train, X_test, y_train, y_test = train_test_split(X, y, test_size=0.2)"
      ],
      "execution_count": 33,
      "outputs": []
    },
    {
      "cell_type": "code",
      "metadata": {
        "id": "e0cKSMoqdWgd",
        "outputId": "a8549bd5-80ff-4bfb-d3be-48e4d652aa54",
        "colab": {
          "base_uri": "https://localhost:8080/",
          "height": 34
        }
      },
      "source": [
        "print(X_train.shape, X_test.shape, y_train.shape, y_test.shape)"
      ],
      "execution_count": 34,
      "outputs": [
        {
          "output_type": "stream",
          "text": [
            "(708, 77) (178, 77) (708, 77) (178, 77)\n"
          ],
          "name": "stdout"
        }
      ]
    },
    {
      "cell_type": "code",
      "metadata": {
        "id": "zdNUX59xdWgf"
      },
      "source": [
        "word_len = len(u_words) \n",
        "embedding_dim = 64\n",
        "dense_units = 4\n",
        "batch_size = 32"
      ],
      "execution_count": 35,
      "outputs": []
    },
    {
      "cell_type": "code",
      "metadata": {
        "id": "VHFc96ugdWgi"
      },
      "source": [
        "def get_model():\n",
        "    \n",
        "    tf.keras.backend.clear_session()\n",
        "    input_layer = Input(shape=(maxlen,), name=\"input_layer\")\n",
        "    \n",
        "    x_embedd = Embedding(input_dim=2351, output_dim=embedding_dim, input_length=maxlen, \n",
        "                    mask_zero=True, \n",
        "                    embeddings_initializer=tf.keras.initializers.RandomNormal(mean=0, stddev=1, seed=23),\n",
        "                     name=\"Embedding_layer\")(input_layer)\n",
        "    \n",
        "    x_bilstm = Bidirectional(LSTM(units=64, activation='tanh', return_sequences=True, recurrent_activation='sigmoid', use_bias=True, \n",
        "                 kernel_initializer=tf.keras.initializers.glorot_uniform(seed=26),\n",
        "                 recurrent_initializer=tf.keras.initializers.orthogonal(seed=54),\n",
        "                 bias_initializer=tf.keras.initializers.zeros(), name=\"BiLSTM_layer\"))(x_embedd)\n",
        "    \n",
        "    x_lstm = LSTM(units=64, activation='tanh', return_sequences=True, recurrent_activation='sigmoid', use_bias=True, \n",
        "                 kernel_initializer=tf.keras.initializers.glorot_uniform(seed=26),\n",
        "                 recurrent_initializer=tf.keras.initializers.orthogonal(seed=54),\n",
        "                 bias_initializer=tf.keras.initializers.zeros(), name=\"LSTM_layer\")(x_bilstm)\n",
        "    \n",
        "    x_out = Dense(dense_units, activation=None, kernel_initializer=tf.keras.initializers.glorot_uniform(seed=45),\n",
        "                  name=\"output_layer\")(x_lstm)\n",
        "    \n",
        "    basic_lstm_model = Model(inputs=input_layer, outputs=x_out, name=\"basic_lstm_model\")\n",
        "    \n",
        "    return basic_lstm_model\n"
      ],
      "execution_count": 53,
      "outputs": []
    },
    {
      "cell_type": "code",
      "metadata": {
        "id": "dUeVWwbTdWgk",
        "outputId": "071e744e-6882-4c24-aa59-d1864840bbfb",
        "colab": {
          "base_uri": "https://localhost:8080/",
          "height": 319
        }
      },
      "source": [
        "model = get_model()\n",
        "model.summary()"
      ],
      "execution_count": 54,
      "outputs": [
        {
          "output_type": "stream",
          "text": [
            "Model: \"basic_lstm_model\"\n",
            "_________________________________________________________________\n",
            "Layer (type)                 Output Shape              Param #   \n",
            "=================================================================\n",
            "input_layer (InputLayer)     [(None, 77)]              0         \n",
            "_________________________________________________________________\n",
            "Embedding_layer (Embedding)  (None, 77, 64)            150464    \n",
            "_________________________________________________________________\n",
            "bidirectional (Bidirectional (None, 77, 128)           66048     \n",
            "_________________________________________________________________\n",
            "LSTM_layer (LSTM)            (None, 77, 64)            49408     \n",
            "_________________________________________________________________\n",
            "output_layer (Dense)         (None, 77, 4)             260       \n",
            "=================================================================\n",
            "Total params: 266,180\n",
            "Trainable params: 266,180\n",
            "Non-trainable params: 0\n",
            "_________________________________________________________________\n"
          ],
          "name": "stdout"
        }
      ]
    },
    {
      "cell_type": "code",
      "metadata": {
        "id": "chd_Y3drhkGn",
        "outputId": "5b87b8ef-8a08-4d32-88f9-44a8ce1f031c",
        "colab": {
          "base_uri": "https://localhost:8080/",
          "height": 466
        }
      },
      "source": [
        "tf.keras.utils.plot_model(\n",
        "    model, to_file='model.png', show_shapes=False,\n",
        "    show_layer_names=True, rankdir='TB', expand_nested=False, dpi=96\n",
        ")"
      ],
      "execution_count": 55,
      "outputs": [
        {
          "output_type": "execute_result",
          "data": {
            "image/png": "[encoded data removed]",
            "text/plain": [
              "<IPython.core.display.Image object>"
            ]
          },
          "metadata": {
            "tags": []
          },
          "execution_count": 55
        }
      ]
    },
    {
      "cell_type": "code",
      "metadata": {
        "id": "SibNHGNWdWgn"
      },
      "source": [
        "# Define optimizer\n",
        "def optimizer():\n",
        "    return tf.keras.optimizers.Adam()\n",
        "  \n",
        "# Define Loss function\n",
        "def loss(labels, logits):\n",
        "  loss_ = tf.keras.losses.sparse_categorical_crossentropy(labels, logits, from_logits=True)\n",
        "  return loss_"
      ],
      "execution_count": 56,
      "outputs": []
    },
    {
      "cell_type": "code",
      "metadata": {
        "id": "TiE_MgJUdWgr"
      },
      "source": [
        "model.compile(optimizer='adam', loss=loss, metrics=['accuracy'])"
      ],
      "execution_count": 57,
      "outputs": []
    },
    {
      "cell_type": "code",
      "metadata": {
        "id": "P8fNgClSdWgw",
        "outputId": "51e9af76-4f72-418a-ddf5-47fda52aa73a",
        "colab": {
          "base_uri": "https://localhost:8080/",
          "height": 689
        }
      },
      "source": [
        "history = model.fit(X_train, y_train, batch_size=32, epochs=20, validation_data=(X_test, y_test), verbose=1)"
      ],
      "execution_count": 58,
      "outputs": [
        {
          "output_type": "stream",
          "text": [
            "Epoch 1/20\n",
            "23/23 [==============================] - 8s 339ms/step - loss: 0.2100 - accuracy: 0.6755 - val_loss: 0.1456 - val_accuracy: 0.6956\n",
            "Epoch 2/20\n",
            "23/23 [==============================] - 4s 174ms/step - loss: 0.1355 - accuracy: 0.7088 - val_loss: 0.1257 - val_accuracy: 0.7074\n",
            "Epoch 3/20\n",
            "23/23 [==============================] - 4s 175ms/step - loss: 0.1136 - accuracy: 0.7560 - val_loss: 0.1041 - val_accuracy: 0.7815\n",
            "Epoch 4/20\n",
            "23/23 [==============================] - 4s 183ms/step - loss: 0.0914 - accuracy: 0.8163 - val_loss: 0.0879 - val_accuracy: 0.8158\n",
            "Epoch 5/20\n",
            "23/23 [==============================] - 4s 184ms/step - loss: 0.0743 - accuracy: 0.8535 - val_loss: 0.0737 - val_accuracy: 0.8572\n",
            "Epoch 6/20\n",
            "23/23 [==============================] - 4s 183ms/step - loss: 0.0597 - accuracy: 0.8919 - val_loss: 0.0623 - val_accuracy: 0.8877\n",
            "Epoch 7/20\n",
            "23/23 [==============================] - 4s 185ms/step - loss: 0.0479 - accuracy: 0.9191 - val_loss: 0.0546 - val_accuracy: 0.9024\n",
            "Epoch 8/20\n",
            "23/23 [==============================] - 4s 174ms/step - loss: 0.0381 - accuracy: 0.9406 - val_loss: 0.0498 - val_accuracy: 0.9116\n",
            "Epoch 9/20\n",
            "23/23 [==============================] - 4s 175ms/step - loss: 0.0296 - accuracy: 0.9580 - val_loss: 0.0441 - val_accuracy: 0.9253\n",
            "Epoch 10/20\n",
            "23/23 [==============================] - 4s 176ms/step - loss: 0.0235 - accuracy: 0.9692 - val_loss: 0.0422 - val_accuracy: 0.9307\n",
            "Epoch 11/20\n",
            "23/23 [==============================] - 4s 176ms/step - loss: 0.0184 - accuracy: 0.9766 - val_loss: 0.0404 - val_accuracy: 0.9358\n",
            "Epoch 12/20\n",
            "23/23 [==============================] - 4s 175ms/step - loss: 0.0135 - accuracy: 0.9858 - val_loss: 0.0392 - val_accuracy: 0.9386\n",
            "Epoch 13/20\n",
            "23/23 [==============================] - 4s 174ms/step - loss: 0.0099 - accuracy: 0.9914 - val_loss: 0.0384 - val_accuracy: 0.9431\n",
            "Epoch 14/20\n",
            "23/23 [==============================] - 4s 173ms/step - loss: 0.0075 - accuracy: 0.9947 - val_loss: 0.0391 - val_accuracy: 0.9427\n",
            "Epoch 15/20\n",
            "23/23 [==============================] - 4s 179ms/step - loss: 0.0055 - accuracy: 0.9969 - val_loss: 0.0396 - val_accuracy: 0.9431\n",
            "Epoch 16/20\n",
            "23/23 [==============================] - 4s 184ms/step - loss: 0.0042 - accuracy: 0.9977 - val_loss: 0.0398 - val_accuracy: 0.9447\n",
            "Epoch 17/20\n",
            "23/23 [==============================] - 4s 182ms/step - loss: 0.0034 - accuracy: 0.9981 - val_loss: 0.0407 - val_accuracy: 0.9447\n",
            "Epoch 18/20\n",
            "23/23 [==============================] - 4s 185ms/step - loss: 0.0027 - accuracy: 0.9984 - val_loss: 0.0421 - val_accuracy: 0.9437\n",
            "Epoch 19/20\n",
            "23/23 [==============================] - 4s 186ms/step - loss: 0.0022 - accuracy: 0.9988 - val_loss: 0.0431 - val_accuracy: 0.9440\n",
            "Epoch 20/20\n",
            "23/23 [==============================] - 4s 182ms/step - loss: 0.0018 - accuracy: 0.9990 - val_loss: 0.0442 - val_accuracy: 0.9447\n"
          ],
          "name": "stdout"
        }
      ]
    },
    {
      "cell_type": "markdown",
      "metadata": {
        "id": "flNrycDKimIR"
      },
      "source": [
        "### Loss and Accuracy Plots"
      ]
    },
    {
      "cell_type": "code",
      "metadata": {
        "id": "gTtwELlKd6H9",
        "outputId": "cfc85552-6870-4025-8dbb-1ba05eb59516",
        "colab": {
          "base_uri": "https://localhost:8080/",
          "height": 295
        }
      },
      "source": [
        "from matplotlib import pyplot as plt\n",
        "plt.plot(history.history['accuracy'])\n",
        "plt.plot(history.history['val_accuracy'])\n",
        "plt.title('model accuracy')\n",
        "plt.ylabel('accuracy')\n",
        "plt.xlabel('epoch')\n",
        "plt.legend(['train', 'val'], loc='upper left')\n",
        "plt.show()"
      ],
      "execution_count": 63,
      "outputs": [
        {
          "output_type": "display_data",
          "data": {
            "image/png": "[encoded data removed]",
            "text/plain": [
              "<Figure size 432x288 with 1 Axes>"
            ]
          },
          "metadata": {
            "tags": [],
            "needs_background": "light"
          }
        }
      ]
    },
    {
      "cell_type": "code",
      "metadata": {
        "id": "f3Q4U3P3iM-p",
        "outputId": "0217fbec-9ebe-4322-ec19-571744925243",
        "colab": {
          "base_uri": "https://localhost:8080/",
          "height": 295
        }
      },
      "source": [
        "plt.plot(history.history['loss'])\n",
        "plt.plot(history.history['val_loss'])\n",
        "plt.title('model loss')\n",
        "plt.ylabel('loss')\n",
        "plt.xlabel('epoch')\n",
        "plt.legend(['train', 'val'], loc='upper left')\n",
        "plt.show()"
      ],
      "execution_count": 64,
      "outputs": [
        {
          "output_type": "display_data",
          "data": {
            "image/png": "[encoded data removed]",
            "text/plain": [
              "<Figure size 432x288 with 1 Axes>"
            ]
          },
          "metadata": {
            "tags": [],
            "needs_background": "light"
          }
        }
      ]
    },
    {
      "cell_type": "markdown",
      "metadata": {
        "id": "pITkBrOYjvB_"
      },
      "source": [
        "#### Summary"
      ]
    },
    {
      "cell_type": "markdown",
      "metadata": {
        "id": "aC3m6v7ijeze"
      },
      "source": [
        "- From the above plots we can see that we got around 94% val accuracy. \n",
        "- The main challenge here is to manually label data.\n",
        "- I have also tried Spacy and StanfordNERtagger, but they are not much accurate.\n",
        "- By building architecture from scratch we can train with our custom datasets.\n",
        "- For inference part, we can do the following steps:\n",
        "- 1. tokenize our query point(Offerdetails)\n",
        "- 2. Convert tokens to lower and then transform into numbers using word_to_numbers dictionary.\n",
        "- 3. Use the model for predict the labels.\n",
        "- 4. USe argmax() and convert numbers into tags.\n"
      ]
    },
    {
      "cell_type": "code",
      "metadata": {
        "id": "YpFAMih9iPzn"
      },
      "source": [
        ""
      ],
      "execution_count": null,
      "outputs": []
    }
  ]
}